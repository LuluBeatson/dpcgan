{
 "cells": [
  {
   "cell_type": "code",
   "execution_count": 67,
   "metadata": {
    "colab": {},
    "colab_type": "code",
    "id": "lAnvkkKKj7yU"
   },
   "outputs": [],
   "source": [
    "from __future__ import absolute_import, division, print_function, unicode_literals"
   ]
  },
  {
   "cell_type": "code",
   "execution_count": 68,
   "metadata": {
    "colab": {
     "base_uri": "https://localhost:8080/",
     "height": 34
    },
    "colab_type": "code",
    "id": "gg5B1yY7kA6w",
    "outputId": "1069c0f6-918b-4add-e4fa-97c82b033222"
   },
   "outputs": [],
   "source": [
    "try:\n",
    "  # %tensorflow_version only exists in Colab.\n",
    "  %tensorflow_version 2.x\n",
    "except Exception:\n",
    "  pass"
   ]
  },
  {
   "cell_type": "code",
   "execution_count": 69,
   "metadata": {
    "colab": {},
    "colab_type": "code",
    "id": "IOSmuaY0kBXR"
   },
   "outputs": [],
   "source": [
    "import tensorflow as tf"
   ]
  },
  {
   "cell_type": "code",
   "execution_count": 70,
   "metadata": {
    "colab": {
     "base_uri": "https://localhost:8080/",
     "height": 34
    },
    "colab_type": "code",
    "id": "ejbzd6zdDLMy",
    "outputId": "81059252-57fe-4f18-ef9e-e93ec4b905d4"
   },
   "outputs": [
    {
     "data": {
      "text/plain": [
       "'2.0.0'"
      ]
     },
     "execution_count": 70,
     "metadata": {},
     "output_type": "execute_result"
    }
   ],
   "source": [
    "tf.__version__"
   ]
  },
  {
   "cell_type": "code",
   "execution_count": 71,
   "metadata": {
    "colab": {
     "base_uri": "https://localhost:8080/",
     "height": 85
    },
    "colab_type": "code",
    "id": "22aE3_QdkEpc",
    "outputId": "5bb26a9f-43e9-4ea1-a7f6-b098435b47e2"
   },
   "outputs": [
    {
     "name": "stdout",
     "output_type": "stream",
     "text": [
      "Requirement already satisfied: imageio in /usr/local/lib/python3.6/dist-packages (2.6.1)\n",
      "Requirement already satisfied: pillow in /usr/local/lib/python3.6/dist-packages (from imageio) (6.2.1)\n",
      "Requirement already satisfied: numpy in /usr/local/lib/python3.6/dist-packages (from imageio) (1.17.2)\n",
      "\u001b[33mWARNING: You are using pip version 19.2.3, however version 19.3.1 is available.\n",
      "You should consider upgrading via the 'pip install --upgrade pip' command.\u001b[0m\n"
     ]
    }
   ],
   "source": [
    "# To generate GIFs\n",
    "!pip install imageio"
   ]
  },
  {
   "cell_type": "code",
   "execution_count": 72,
   "metadata": {
    "colab": {
     "base_uri": "https://localhost:8080/",
     "height": 105
    },
    "colab_type": "code",
    "id": "qDwo4ClNlTts",
    "outputId": "0281d884-156a-4b51-ecce-15efc8a879a9"
   },
   "outputs": [
    {
     "name": "stdout",
     "output_type": "stream",
     "text": [
      "Requirement already satisfied: tensorflow_privacy in /usr/local/lib/python3.6/dist-packages (0.2.2)\n",
      "Requirement already satisfied: mpmath in /usr/local/lib/python3.6/dist-packages (from tensorflow_privacy) (1.1.0)\n",
      "Requirement already satisfied: scipy>=0.17 in /usr/local/lib/python3.6/dist-packages (from tensorflow_privacy) (1.3.3)\n",
      "Requirement already satisfied: numpy>=1.13.3 in /usr/local/lib/python3.6/dist-packages (from scipy>=0.17->tensorflow_privacy) (1.17.2)\n",
      "\u001b[33mWARNING: You are using pip version 19.2.3, however version 19.3.1 is available.\n",
      "You should consider upgrading via the 'pip install --upgrade pip' command.\u001b[0m\n"
     ]
    }
   ],
   "source": [
    "# To use Differential Privacy\n",
    "!pip install tensorflow_privacy"
   ]
  },
  {
   "cell_type": "code",
   "execution_count": 73,
   "metadata": {
    "colab": {},
    "colab_type": "code",
    "id": "gjGtjZWokG36"
   },
   "outputs": [],
   "source": [
    "import glob\n",
    "import imageio\n",
    "import matplotlib.pyplot as plt\n",
    "import numpy as np\n",
    "import os\n",
    "import PIL\n",
    "from tensorflow.keras import layers, models\n",
    "import time\n",
    "\n",
    "from IPython import display\n",
    "\n",
    "from tensorflow_privacy.privacy.analysis import compute_dp_sgd_privacy\n",
    "from tensorflow_privacy.privacy.optimizers.dp_optimizer import DPGradientDescentGaussianOptimizer\n",
    "from tensorflow_privacy.privacy.optimizers.dp_optimizer import DPAdamGaussianOptimizer"
   ]
  },
  {
   "cell_type": "markdown",
   "metadata": {
    "colab_type": "text",
    "id": "JuCo5voGT-Jb"
   },
   "source": [
    "## Modified Optimizer"
   ]
  },
  {
   "cell_type": "code",
   "execution_count": 183,
   "metadata": {
    "colab": {},
    "colab_type": "code",
    "id": "hOBQELw7mo9Z"
   },
   "outputs": [],
   "source": [
    "from __future__ import absolute_import\n",
    "from __future__ import division\n",
    "from __future__ import print_function\n",
    "\n",
    "from absl import logging\n",
    "\n",
    "import tensorflow as tf\n",
    "\n",
    "import collections\n",
    "\n",
    "from tensorflow_privacy.privacy.analysis import privacy_ledger\n",
    "from tensorflow_privacy.privacy.dp_query import gaussian_query\n",
    "from tensorflow_privacy.privacy.dp_query import no_privacy_query\n",
    "\n",
    "\n",
    "def make_optimizer_class(cls):\n",
    "  \"\"\"Constructs a DP optimizer class from an existing one.\"\"\"\n",
    "  parent_code = tf.compat.v1.train.Optimizer.compute_gradients.__code__\n",
    "  child_code = cls.compute_gradients.__code__\n",
    "  GATE_OP = tf.compat.v1.train.Optimizer.GATE_OP  # pylint: disable=invalid-name\n",
    "  if child_code is not parent_code:\n",
    "    logging.warning(\n",
    "        'WARNING: Calling make_optimizer_class() on class %s that overrides '\n",
    "        'method compute_gradients(). Check to ensure that '\n",
    "        'make_optimizer_class() does not interfere with overridden version.',\n",
    "        cls.__name__)\n",
    "\n",
    "  class DPOptimizerClass(cls):\n",
    "    \"\"\"Differentially private subclass of given class cls.\"\"\"\n",
    "\n",
    "    _GlobalState = collections.namedtuple(\n",
    "      '_GlobalState', ['l2_norm_clip', 'stddev'])\n",
    "    \n",
    "    def __init__(\n",
    "        self,\n",
    "        dp_sum_query,\n",
    "        num_microbatches=None,\n",
    "        unroll_microbatches=False,\n",
    "        *args,  # pylint: disable=keyword-arg-before-vararg, g-doc-args\n",
    "        **kwargs):\n",
    "      \"\"\"Initialize the DPOptimizerClass.\n",
    "\n",
    "      Args:\n",
    "        dp_sum_query: DPQuery object, specifying differential privacy\n",
    "          mechanism to use.\n",
    "        num_microbatches: How many microbatches into which the minibatch is\n",
    "          split. If None, will default to the size of the minibatch, and\n",
    "          per-example gradients will be computed.\n",
    "        unroll_microbatches: If true, processes microbatches within a Python\n",
    "          loop instead of a tf.while_loop. Can be used if using a tf.while_loop\n",
    "          raises an exception.\n",
    "      \"\"\"\n",
    "      super(DPOptimizerClass, self).__init__(*args, **kwargs)\n",
    "      self._dp_sum_query = dp_sum_query\n",
    "      self._num_microbatches = num_microbatches\n",
    "      self._global_state = self._dp_sum_query.initial_global_state()\n",
    "      # TODO(b/122613513): Set unroll_microbatches=True to avoid this bug.\n",
    "      # Beware: When num_microbatches is large (>100), enabling this parameter\n",
    "      # may cause an OOM error.\n",
    "      self._unroll_microbatches = unroll_microbatches\n",
    "\n",
    "    def compute_gradients(self,\n",
    "                          loss,\n",
    "                          var_list,\n",
    "                          gate_gradients=GATE_OP,\n",
    "                          aggregation_method=None,\n",
    "                          colocate_gradients_with_ops=False,\n",
    "                          grad_loss=None,\n",
    "                          gradient_tape=None,\n",
    "                          SET_noise=0,\n",
    "                          SET_clip=10):\n",
    "\n",
    "      self._dp_sum_query = gaussian_query.GaussianSumQuery(SET_clip, SET_clip*SET_noise)\n",
    "      self._global_state = self._dp_sum_query.make_global_state(SET_clip, SET_clip*SET_noise)\n",
    "      \n",
    "\n",
    "\n",
    "\n",
    "      # TF is running in Eager mode, check we received a vanilla tape.\n",
    "      if not gradient_tape:\n",
    "        raise ValueError('When in Eager mode, a tape needs to be passed.')\n",
    "\n",
    "      vector_loss = loss()\n",
    "      if self._num_microbatches is None:\n",
    "        self._num_microbatches = tf.shape(input=vector_loss)[0]\n",
    "      sample_state = self._dp_sum_query.initial_sample_state(var_list)\n",
    "      microbatches_losses = tf.reshape(vector_loss, [self._num_microbatches, -1])\n",
    "      sample_params = (self._dp_sum_query.derive_sample_params(self._global_state))\n",
    "\n",
    "      def process_microbatch(i, sample_state):\n",
    "        \"\"\"Process one microbatch (record) with privacy helper.\"\"\"\n",
    "        microbatch_loss = tf.reduce_mean(input_tensor=tf.gather(microbatches_losses, [i]))\n",
    "        grads = gradient_tape.gradient(microbatch_loss, var_list)\n",
    "        sample_state = self._dp_sum_query.accumulate_record(sample_params, sample_state, grads)\n",
    "        return sample_state\n",
    "    \n",
    "      for idx in range(self._num_microbatches):\n",
    "        sample_state = process_microbatch(idx, sample_state)\n",
    "\n",
    "      if SET_noise > 0:\n",
    "        grad_sums, self._global_state = (self._dp_sum_query.get_noised_result(sample_state, self._global_state))\n",
    "      else:\n",
    "        grad_sums = sample_state\n",
    "\n",
    "      def normalize(v):\n",
    "        return v / tf.cast(self._num_microbatches, tf.float32)\n",
    "\n",
    "      final_grads = tf.nest.map_structure(normalize, grad_sums)\n",
    "      grads_and_vars = final_grads#list(zip(final_grads, var_list))\n",
    "    \n",
    "      return grads_and_vars\n",
    "\n",
    "  return DPOptimizerClass\n",
    "\n",
    "\n",
    "def make_gaussian_optimizer_class(cls):\n",
    "  \"\"\"Constructs a DP optimizer with Gaussian averaging of updates.\"\"\"\n",
    "\n",
    "  class DPGaussianOptimizerClass(make_optimizer_class(cls)):\n",
    "    \"\"\"DP subclass of given class cls using Gaussian averaging.\"\"\"\n",
    "\n",
    "    def __init__(\n",
    "        self,\n",
    "        l2_norm_clip,\n",
    "        noise_multiplier,\n",
    "        num_microbatches=None,\n",
    "        ledger=None,\n",
    "        unroll_microbatches=False,\n",
    "        *args,  # pylint: disable=keyword-arg-before-vararg\n",
    "        **kwargs):\n",
    "      dp_sum_query = gaussian_query.GaussianSumQuery(\n",
    "          l2_norm_clip, l2_norm_clip * noise_multiplier)\n",
    "\n",
    "      if ledger:\n",
    "        dp_sum_query = privacy_ledger.QueryWithLedger(dp_sum_query,\n",
    "                                                      ledger=ledger)\n",
    "\n",
    "      super(DPGaussianOptimizerClass, self).__init__(\n",
    "          dp_sum_query,\n",
    "          num_microbatches,\n",
    "          unroll_microbatches,\n",
    "          *args,\n",
    "          **kwargs)\n",
    "\n",
    "    @property\n",
    "    def ledger(self):\n",
    "      return self._dp_sum_query.ledger\n",
    "\n",
    "  return DPGaussianOptimizerClass\n",
    "\n",
    "GradientDescentOptimizer = tf.compat.v1.train.GradientDescentOptimizer\n",
    "DPGradientDescentGaussianOptimizer_NEW = make_gaussian_optimizer_class(GradientDescentOptimizer)"
   ]
  },
  {
   "cell_type": "markdown",
   "metadata": {
    "colab_type": "text",
    "id": "Dnmy7SGjT8qx"
   },
   "source": [
    "## START"
   ]
  },
  {
   "cell_type": "code",
   "execution_count": 184,
   "metadata": {
    "colab": {},
    "colab_type": "code",
    "id": "IuUBjz5ZEn5D"
   },
   "outputs": [],
   "source": [
    "base_dir = '/storage/TF2'"
   ]
  },
  {
   "cell_type": "code",
   "execution_count": 313,
   "metadata": {
    "colab": {},
    "colab_type": "code",
    "id": "5BjbuiWuEv__"
   },
   "outputs": [],
   "source": [
    "name_trial = '/tousemicro'\n",
    "\n",
    "result_dir = base_dir + '/GANPoster' + name_trial"
   ]
  },
  {
   "cell_type": "code",
   "execution_count": 314,
   "metadata": {
    "colab": {},
    "colab_type": "code",
    "id": "XOcY7Xxnplya"
   },
   "outputs": [],
   "source": [
    "# Define checkpoint dir and prefix\n",
    "checkpoint_dir = result_dir + '/training_checkpoints'\n",
    "\n",
    "def checkpoint_name(title):  \n",
    "  checkpoint_prefix = os.path.join(checkpoint_dir, \"ckpt__\" + str(title))\n",
    "  return(checkpoint_prefix)"
   ]
  },
  {
   "cell_type": "code",
   "execution_count": 315,
   "metadata": {
    "colab": {},
    "colab_type": "code",
    "id": "o9Lzy_t_nOzd"
   },
   "outputs": [],
   "source": [
    "images_dir = result_dir + '/images'\n",
    "\n",
    "def generate_and_save_images(model, epoch, test_input, test_label):\n",
    "  # Notice `training` is set to False: This is so all layers run in inference mode (batchnorm).\n",
    "  predictions = model([test_input, test_label], training=False)\n",
    "\n",
    "  fig = plt.figure(figsize=(2,10))\n",
    "\n",
    "  for i in range(predictions.shape[0]):\n",
    "      plt.subplot(10, 1, i+1)\n",
    "      plt.imshow(predictions[i, :, :, 0] * 127.5 + 127.5, cmap='gray')\n",
    "      plt.axis('off')\n",
    "\n",
    "  plt.savefig(images_dir + '/image_at_epoch_{:04d}.png'.format(epoch))\n",
    "  #plt.show()"
   ]
  },
  {
   "cell_type": "code",
   "execution_count": 316,
   "metadata": {
    "colab": {},
    "colab_type": "code",
    "id": "gubUb2LBF2Hj"
   },
   "outputs": [],
   "source": [
    "if not os.path.exists(result_dir):\n",
    "  os.makedirs(result_dir)\n",
    "\n",
    "if not os.path.exists(checkpoint_dir):\n",
    "  os.makedirs(checkpoint_dir)\n",
    "\n",
    "if not os.path.exists(images_dir):\n",
    "  os.makedirs(images_dir)"
   ]
  },
  {
   "cell_type": "markdown",
   "metadata": {
    "colab_type": "text",
    "id": "ehOkmDl__ZyH"
   },
   "source": [
    "## C-GAN"
   ]
  },
  {
   "cell_type": "code",
   "execution_count": 318,
   "metadata": {
    "colab": {},
    "colab_type": "code",
    "id": "PVBOYFJskMTZ"
   },
   "outputs": [],
   "source": [
    "def make_generator_model_FCC():\n",
    "    # INPUT: label input\n",
    "    in_label = layers.Input(shape=(COND_num_classes,))\n",
    "\n",
    "    # INPUT: image generator input\n",
    "    in_lat = layers.Input(shape=(Z_DIM,))\n",
    "\n",
    "    # MERGE\n",
    "    merge = layers.concatenate([in_lat, in_label], axis=1)\n",
    "\n",
    "    ge1 = layers.Dense(128, use_bias=True)(merge)\n",
    "    ge1 = layers.ReLU()(ge1)\n",
    "\n",
    "    ge2 = layers.Dense(784, use_bias=True, activation=\"tanh\")(ge1)\n",
    "    out_layer = layers.Reshape((28, 28, 1))(ge2)\n",
    "\n",
    "    model = models.Model([in_lat, in_label], out_layer)\n",
    "\n",
    "    return model\n",
    "\n",
    "def make_discriminator_model_FCC():\n",
    "    # INPUT: Label\n",
    "    in_label = layers.Input(shape=(COND_num_classes,))\n",
    "\n",
    "    # INPUT: Image\n",
    "    in_image = layers.Input(shape=(28, 28, 1))\n",
    "    in_image_b = layers.Flatten()(in_image)\n",
    "\n",
    "    # MERGE\n",
    "    merge = layers.concatenate([in_image_b, in_label], axis=1)\n",
    "\n",
    "    ge1 = layers.Dense(128, use_bias=True)(merge)\n",
    "    ge1 = layers.ReLU()(ge1)\n",
    "\n",
    "    out_layer = layers.Dense(1, use_bias=True)(ge1)\n",
    "\n",
    "    model = models.Model([in_image, in_label], out_layer)\n",
    "\n",
    "    return model"
   ]
  },
  {
   "cell_type": "markdown",
   "metadata": {
    "colab_type": "text",
    "id": "RqMlVrs5G9bI"
   },
   "source": [
    "## SETUP"
   ]
  },
  {
   "cell_type": "code",
   "execution_count": 319,
   "metadata": {
    "colab": {},
    "colab_type": "code",
    "id": "zAn0CETqHzAz"
   },
   "outputs": [],
   "source": [
    "# SETUP\n",
    "COND_num_classes = 10\n",
    "\n",
    "Z_DIM = 100 # Does NOT affect EPSILON\n",
    "NORM_CLIP = 1.1 # Does NOT affect EPSILON, but increases NOISE on gradients\n",
    "\n",
    "DP_DELTA = 1e-5\n",
    "\n",
    "NOISE_MULT = 1.15\n",
    "EPOCHS = 249\n",
    "\n",
    "BUFFER_SIZE = 60000\n",
    "\n",
    "BATCH_SIZE = 600\n",
    "\n",
    "N_DISC = 1"
   ]
  },
  {
   "cell_type": "code",
   "execution_count": 320,
   "metadata": {
    "colab": {
     "base_uri": "https://localhost:8080/",
     "height": 105
    },
    "colab_type": "code",
    "id": "VocXhKB5lSEV",
    "outputId": "96502b09-fd36-4152-de2d-4d51efb3c336"
   },
   "outputs": [
    {
     "name": "stdout",
     "output_type": "stream",
     "text": [
      "DP-SGD with sampling rate = 1% and noise_multiplier = 1.15 iterated over 24900 steps satisfies differential privacy with eps = 9.64 and delta = 1e-05.\n",
      "The optimal RDP order is 4.0.\n"
     ]
    },
    {
     "data": {
      "text/plain": [
       "(9.643695567594444, 4.0)"
      ]
     },
     "execution_count": 320,
     "metadata": {},
     "output_type": "execute_result"
    }
   ],
   "source": [
    "# Obtain DP_EPSILON\n",
    "compute_dp_sgd_privacy.compute_dp_sgd_privacy(n = BUFFER_SIZE, \n",
    "                                              batch_size = BATCH_SIZE, \n",
    "                                              noise_multiplier = NOISE_MULT, \n",
    "                                              epochs = EPOCHS, \n",
    "                                              delta = DP_DELTA)"
   ]
  },
  {
   "cell_type": "code",
   "execution_count": 321,
   "metadata": {
    "colab": {
     "base_uri": "https://localhost:8080/",
     "height": 34
    },
    "colab_type": "code",
    "id": "R1WvIihNKwXI",
    "outputId": "4b017caf-fa4e-49cf-9906-11362202657a"
   },
   "outputs": [
    {
     "data": {
      "text/plain": [
       "1.265"
      ]
     },
     "execution_count": 321,
     "metadata": {},
     "output_type": "execute_result"
    }
   ],
   "source": [
    "# SD of noise\n",
    "NOISE_MULT*NORM_CLIP"
   ]
  },
  {
   "cell_type": "code",
   "execution_count": 351,
   "metadata": {
    "colab": {},
    "colab_type": "code",
    "id": "14pCCe5KpYJz"
   },
   "outputs": [],
   "source": [
    "generator = make_generator_model_FCC()\n",
    "discriminator = make_discriminator_model_FCC()"
   ]
  },
  {
   "cell_type": "code",
   "execution_count": 352,
   "metadata": {
    "colab": {},
    "colab_type": "code",
    "id": "zl2cQPbrLI5P"
   },
   "outputs": [],
   "source": [
    "#generator.summary()"
   ]
  },
  {
   "cell_type": "code",
   "execution_count": 353,
   "metadata": {
    "colab": {},
    "colab_type": "code",
    "id": "ZrlnUgnYLKRW"
   },
   "outputs": [],
   "source": [
    "#discriminator.summary()"
   ]
  },
  {
   "cell_type": "code",
   "execution_count": 354,
   "metadata": {
    "colab": {
     "base_uri": "https://localhost:8080/",
     "height": 316
    },
    "colab_type": "code",
    "id": "A_b5QPsCwEIW",
    "outputId": "cd38d3a2-cbbe-49d6-bed0-836eb418f110"
   },
   "outputs": [
    {
     "name": "stdout",
     "output_type": "stream",
     "text": [
      "(1, 100)\n",
      "(1, 10)\n",
      "tf.Tensor([[0.04091578]], shape=(1, 1), dtype=float32)\n"
     ]
    },
    {
     "data": {
      "image/png": "[encoded data removed]",
      "text/plain": [
       "<Figure size 432x288 with 1 Axes>"
      ]
     },
     "metadata": {
      "needs_background": "light"
     },
     "output_type": "display_data"
    }
   ],
   "source": [
    "###################\n",
    "## MODELS\n",
    "# Test GEN created\n",
    "noise = tf.Variable(tf.random.normal([1, Z_DIM]))\n",
    "noise_label = tf.Variable(np.array([0,0,1,0,0,0,0,0,0,0], dtype='float32').reshape((1,10)))\n",
    "print(noise.shape)\n",
    "print(noise_label.shape)\n",
    "generated_image = generator([noise, noise_label], training=False)\n",
    "plt.imshow(generated_image[0, :, :, 0], cmap='gray')\n",
    "\n",
    "# Test DISC created\n",
    "decision = discriminator([generated_image, noise_label])\n",
    "print(decision)"
   ]
  },
  {
   "cell_type": "code",
   "execution_count": 355,
   "metadata": {
    "colab": {
     "base_uri": "https://localhost:8080/",
     "height": 574
    },
    "colab_type": "code",
    "id": "mpq1bUPfDLNk",
    "outputId": "52284d07-ad86-4746-f47e-6831f1cd486a"
   },
   "outputs": [
    {
     "data": {
      "image/png": "[encoded data removed]",
      "text/plain": [
       "<Figure size 144x720 with 10 Axes>"
      ]
     },
     "metadata": {
      "needs_background": "light"
     },
     "output_type": "display_data"
    }
   ],
   "source": [
    "tf.random.set_seed(1)\n",
    "num_examples_to_generate = 10\n",
    "# We will reuse this seed overtime (so it's easier) to visualize progress in the animated GIF)\n",
    "seed = tf.random.normal([num_examples_to_generate, Z_DIM])\n",
    "seed_labels = tf.Variable(np.array([1,0,0,0,0,0,0,0,0,0]*1 + \n",
    "                                   [0,1,0,0,0,0,0,0,0,0]*1 +\n",
    "                                   [0,0,1,0,0,0,0,0,0,0]*1 +\n",
    "                                   [0,0,0,1,0,0,0,0,0,0]*1 +\n",
    "                                   [0,0,0,0,1,0,0,0,0,0]*1 +\n",
    "                                   [0,0,0,0,0,1,0,0,0,0]*1 +\n",
    "                                   [0,0,0,0,0,0,1,0,0,0]*1 +\n",
    "                                   [0,0,0,0,0,0,0,1,0,0]*1 +\n",
    "                                   [0,0,0,0,0,0,0,0,1,0]*1 +\n",
    "                                   [0,0,0,0,0,0,0,0,0,1]*1, dtype='float32').reshape((10,10)))\n",
    "\n",
    "generate_and_save_images(generator, 0, seed, seed_labels)"
   ]
  },
  {
   "cell_type": "markdown",
   "metadata": {
    "colab_type": "text",
    "id": "NMMbWnKoNa99"
   },
   "source": [
    "### GOOD"
   ]
  },
  {
   "cell_type": "code",
   "execution_count": 356,
   "metadata": {
    "colab": {},
    "colab_type": "code",
    "id": "UovjSm3wKG3h"
   },
   "outputs": [],
   "source": [
    "import tensorflow.keras.backend as K"
   ]
  },
  {
   "cell_type": "code",
   "execution_count": 357,
   "metadata": {
    "colab": {},
    "colab_type": "code",
    "id": "Yj0E2qo3kHb0"
   },
   "outputs": [],
   "source": [
    "###################\n",
    "## OPTIMIZERS\n",
    "generator_optimizer = tf.keras.optimizers.Adam()\n",
    "\n",
    "lr_disc = tf.compat.v1.train.polynomial_decay(learning_rate=0.150,\n",
    "                                              global_step=tf.compat.v1.train.get_or_create_global_step(),\n",
    "                                              decay_steps=10000,\n",
    "                                              end_learning_rate=0.052,\n",
    "                                              power=1)\n",
    "\n",
    "discriminator_optimizer = DPGradientDescentGaussianOptimizer_NEW(\n",
    "   learning_rate = lr_disc,\n",
    "   l2_norm_clip = NORM_CLIP,\n",
    "   noise_multiplier = NOISE_MULT,\n",
    "   num_microbatches = 1)\n",
    "\n",
    "# DP\n",
    "cross_entropy_DISC = tf.keras.losses.BinaryCrossentropy(from_logits=True, reduction=tf.losses.Reduction.NONE)\n",
    "\n",
    "# Not-DP\n",
    "cross_entropy_GEN = tf.keras.losses.BinaryCrossentropy(from_logits=True)\n",
    "\n",
    "###################\n",
    "## LOSS AND UPDATES\n",
    "\n",
    "# Notice the use of `tf.function`: This annotation causes the function to be \"compiled\".\n",
    "@tf.function\n",
    "def train_step_DISC_BOTH(images, labels, noise):    \n",
    "    with tf.GradientTape(persistent=True) as disc_tape_real:\n",
    "      # This dummy call is needed to obtain the var list.\n",
    "      dummy = discriminator([images, labels], training=True)\n",
    "      var_list = discriminator.trainable_variables\n",
    "\n",
    "      # In Eager mode, the optimizer takes a function that returns the loss.\n",
    "      def loss_fn_real():\n",
    "        real_output = discriminator([images, labels], training=True)\n",
    "        disc_real_loss = cross_entropy_DISC(tf.ones_like(real_output), real_output)\n",
    "        return disc_real_loss\n",
    "      \n",
    "      grads_and_vars_real = discriminator_optimizer.compute_gradients(loss_fn_real, var_list, \n",
    "                                                                      gradient_tape=disc_tape_real, \n",
    "                                                                      SET_noise=NOISE_MULT,\n",
    "                                                                      SET_clip=NORM_CLIP)\n",
    "      \n",
    "      # In Eager mode, the optimizer takes a function that returns the loss.\n",
    "      def loss_fn_fake():\n",
    "        generated_images = generator([noise, labels], training=True)\n",
    "        fake_output = discriminator([generated_images, labels], training=True)\n",
    "        disc_fake_loss = cross_entropy_DISC(tf.zeros_like(fake_output), fake_output)\n",
    "        return disc_fake_loss\n",
    "      \n",
    "      grads_and_vars_fake = discriminator_optimizer.compute_gradients(loss_fn_fake, var_list, \n",
    "                                                                      gradient_tape=disc_tape_real,\n",
    "                                                                      SET_noise=0,\n",
    "                                                                      SET_clip=NORM_CLIP)\n",
    "    \n",
    "    norm_r = 0 #tf.linalg.global_norm(grads_and_vars_real)\n",
    "    norm_f = 0 #tf.linalg.global_norm(grads_and_vars_fake)\n",
    "        \n",
    "    s_grads_and_vars = [(grads_and_vars_real[idx] + grads_and_vars_fake[idx]) for idx in \n",
    "                        range(len(grads_and_vars_real))]\n",
    "    sanitized_grads_and_vars = list(zip(s_grads_and_vars, var_list))\n",
    "    \n",
    "    discriminator_optimizer.apply_gradients(sanitized_grads_and_vars)\n",
    "    \n",
    "    return(norm_r, norm_f)\n",
    "\n",
    "\n",
    "################################################################################################\n",
    "################################################################################################\n",
    "\n",
    "# Notice the use of `tf.function`: This annotation causes the function to be \"compiled\".\n",
    "@tf.function\n",
    "def train_step_GEN(labels, noise):\n",
    "    with tf.GradientTape() as gen_tape:\n",
    "      generated_images = generator([noise, labels], training=True)\n",
    "      fake_output = discriminator([generated_images, labels], training=True)\n",
    "      # if the generator is performing well, the discriminator will classify the fake images as real (or 1)\n",
    "      gen_loss = cross_entropy_GEN(tf.ones_like(fake_output), fake_output)\n",
    "\n",
    "    gradients_of_generator = gen_tape.gradient(gen_loss, generator.trainable_variables)\n",
    "    generator_optimizer.apply_gradients(zip(gradients_of_generator, generator.trainable_variables))\n",
    "\n",
    "    return(gen_loss)"
   ]
  },
  {
   "cell_type": "markdown",
   "metadata": {
    "colab_type": "text",
    "id": "n6hVijBPlfg8"
   },
   "source": [
    "## TRAIN"
   ]
  },
  {
   "cell_type": "code",
   "execution_count": 358,
   "metadata": {
    "colab": {},
    "colab_type": "code",
    "id": "tGI0EgGjoTrQ"
   },
   "outputs": [],
   "source": [
    "# CREATE CHECKPOINT STRUCTURE\n",
    "checkpoint = tf.train.Checkpoint(generator_optimizer=generator_optimizer,\n",
    "                                 discriminator_optimizer=discriminator_optimizer,\n",
    "                                 generator=generator,\n",
    "                                 discriminator=discriminator)"
   ]
  },
  {
   "cell_type": "code",
   "execution_count": 359,
   "metadata": {
    "colab": {},
    "colab_type": "code",
    "id": "AUflcdXYnV_M"
   },
   "outputs": [],
   "source": [
    "def train(dataset, title):\n",
    "  for epoch in range(EPOCHS):\n",
    "    start = time.time()\n",
    "\n",
    "    i_gen = 0\n",
    "    for image_batch, label_batch in dataset:\n",
    "      noise = tf.random.normal([BATCH_SIZE, Z_DIM])\n",
    "      #print(str(i_gen) + \" ------------------------------------------------------ \")\n",
    "      d_r, d_f = train_step_DISC_BOTH(image_batch, label_batch, noise)\n",
    "      #print(\"------ NORM REAL: \" + str(d_r))\n",
    "      #print(\"------ NORM FAKE: \" + str(d_f))\n",
    "      \n",
    "      #if (i_gen + 1) % N_DISC == 0:\n",
    "      g_f = train_step_GEN(label_batch, noise)\n",
    "      \n",
    "      i_gen = i_gen + 1\n",
    "\n",
    "    # Produce images for the GIF as we go\n",
    "    display.clear_output(wait=True)\n",
    "    generate_and_save_images(generator,\n",
    "                              epoch + 1,\n",
    "                              seed,\n",
    "                              seed_labels)\n",
    "    print ('Time for epoch {} is {} sec'.format(epoch + 1, time.time()-start))\n",
    "\n",
    "    # Save the model\n",
    "    checkpoint.save(file_prefix = checkpoint_name(title + \"__epoch=\" + str(epoch) + \"__\"))"
   ]
  },
  {
   "cell_type": "markdown",
   "metadata": {
    "colab_type": "text",
    "id": "9Sb7NTLhqyh8"
   },
   "source": [
    "## Dataset"
   ]
  },
  {
   "cell_type": "code",
   "execution_count": 360,
   "metadata": {
    "colab": {},
    "colab_type": "code",
    "id": "D4yIv7MAqn9a"
   },
   "outputs": [],
   "source": [
    "(train_images, train_labels), (_, _) = tf.keras.datasets.mnist.load_data()\n",
    "train_images = train_images.reshape(train_images.shape[0], 28, 28, 1).astype('float32')\n",
    "train_images = (train_images - 127.5) / 127.5 # Normalize the images to [-1, 1]"
   ]
  },
  {
   "cell_type": "code",
   "execution_count": 364,
   "metadata": {
    "colab": {
     "base_uri": "https://localhost:8080/",
     "height": 51
    },
    "colab_type": "code",
    "id": "457S-cC38uPO",
    "outputId": "cbc04237-e522-4ae6-f223-82bf42775bb6"
   },
   "outputs": [
    {
     "name": "stdout",
     "output_type": "stream",
     "text": [
      "(60000, 28, 28, 1)\n",
      "(60000, 1)\n"
     ]
    }
   ],
   "source": [
    "print(train_images.shape)\n",
    "train_labels = train_labels.reshape((60000, 1))\n",
    "print(train_labels.shape)"
   ]
  },
  {
   "cell_type": "code",
   "execution_count": 365,
   "metadata": {
    "colab": {
     "base_uri": "https://localhost:8080/",
     "height": 119
    },
    "colab_type": "code",
    "id": "mkARFJn6-OHq",
    "outputId": "922548de-0c14-45e0-b48b-82f4481f890f"
   },
   "outputs": [
    {
     "name": "stdout",
     "output_type": "stream",
     "text": [
      "(60000, 10)\n"
     ]
    },
    {
     "data": {
      "text/plain": [
       "array([[0., 0., 0., 0., 0., 1., 0., 0., 0., 0.],\n",
       "       [1., 0., 0., 0., 0., 0., 0., 0., 0., 0.],\n",
       "       [0., 0., 0., 0., 1., 0., 0., 0., 0., 0.],\n",
       "       [0., 1., 0., 0., 0., 0., 0., 0., 0., 0.],\n",
       "       [0., 0., 0., 0., 0., 0., 0., 0., 0., 1.]], dtype=float32)"
      ]
     },
     "execution_count": 365,
     "metadata": {},
     "output_type": "execute_result"
    }
   ],
   "source": [
    "train_labels_vec = np.zeros((len(train_labels), COND_num_classes), dtype='float32')\n",
    "for i, label in enumerate(train_labels):\n",
    "    train_labels_vec[i, int(train_labels[i])] = 1.0\n",
    "print(train_labels_vec.shape)\n",
    "train_labels_vec[:5,:]"
   ]
  },
  {
   "cell_type": "markdown",
   "metadata": {
    "colab_type": "text",
    "id": "7UpjHhpSq9_W"
   },
   "source": [
    "# Train"
   ]
  },
  {
   "cell_type": "code",
   "execution_count": 366,
   "metadata": {
    "colab": {},
    "colab_type": "code",
    "id": "nTJgxxIqqw5n"
   },
   "outputs": [],
   "source": [
    "tf.random.set_seed(1)\n",
    "train_dataset = tf.data.Dataset.from_tensor_slices((train_images, train_labels_vec)).shuffle(BUFFER_SIZE, reshuffle_each_iteration=True).batch(BATCH_SIZE, drop_remainder=True)"
   ]
  },
  {
   "cell_type": "code",
   "execution_count": 367,
   "metadata": {
    "colab": {},
    "colab_type": "code",
    "id": "BVDi7vlNqBlB"
   },
   "outputs": [],
   "source": [
    "training_title = 'eps9.6'"
   ]
  },
  {
   "cell_type": "code",
   "execution_count": null,
   "metadata": {
    "colab": {
     "base_uri": "https://localhost:8080/",
     "height": 1000
    },
    "colab_type": "code",
    "id": "IL6rZttmrBOp",
    "outputId": "37984a96-9103-463e-debf-a76d3aacd62b"
   },
   "outputs": [],
   "source": [
    "train(train_dataset, training_title)"
   ]
  },
  {
   "cell_type": "code",
   "execution_count": 321,
   "metadata": {
    "colab": {
     "base_uri": "https://localhost:8080/",
     "height": 34
    },
    "colab_type": "code",
    "id": "9HifiG5OKoOg",
    "outputId": "acf82ffb-e217-42c4-aec5-6206e40170ba"
   },
   "outputs": [
    {
     "data": {
      "text/plain": [
       "<tf.Tensor: id=2286400, shape=(), dtype=int32, numpy=11>"
      ]
     },
     "execution_count": 321,
     "metadata": {
      "tags": []
     },
     "output_type": "execute_result"
    }
   ],
   "source": [
    "tf.constant(11)"
   ]
  },
  {
   "cell_type": "markdown",
   "metadata": {
    "colab_type": "text",
    "id": "HDXQ-UIbrXf_"
   },
   "source": [
    "## Classification"
   ]
  },
  {
   "cell_type": "code",
   "execution_count": null,
   "metadata": {},
   "outputs": [],
   "source": [
    "checkpoint_dir"
   ]
  },
  {
   "cell_type": "code",
   "execution_count": 369,
   "metadata": {},
   "outputs": [
    {
     "data": {
      "text/plain": [
       "<tensorflow.python.training.tracking.util.CheckpointLoadStatus at 0x7f75a5b897f0>"
      ]
     },
     "execution_count": 369,
     "metadata": {},
     "output_type": "execute_result"
    }
   ],
   "source": [
    "checkpoint.restore('/storage/TF2/GANPoster/tousemicro/training_checkpoints/ckpt__eps9.6__epoch=248__-249')"
   ]
  },
  {
   "cell_type": "code",
   "execution_count": 370,
   "metadata": {
    "colab": {},
    "colab_type": "code",
    "id": "9DqLFm1Ix7cK"
   },
   "outputs": [],
   "source": [
    "tf.random.set_seed(100)\n",
    "N_GEN = 5000\n",
    "N_GEN_per_CLASS = np.int(N_GEN/10)\n",
    "\n",
    "noise_GEN = tf.random.normal([N_GEN, Z_DIM])\n",
    "labels_GEN = tf.Variable(np.array([1,0,0,0,0,0,0,0,0,0]*N_GEN_per_CLASS + \n",
    "                                   [0,1,0,0,0,0,0,0,0,0]*N_GEN_per_CLASS +\n",
    "                                   [0,0,1,0,0,0,0,0,0,0]*N_GEN_per_CLASS +\n",
    "                                   [0,0,0,1,0,0,0,0,0,0]*N_GEN_per_CLASS +\n",
    "                                   [0,0,0,0,1,0,0,0,0,0]*N_GEN_per_CLASS +\n",
    "                                   [0,0,0,0,0,1,0,0,0,0]*N_GEN_per_CLASS +\n",
    "                                   [0,0,0,0,0,0,1,0,0,0]*N_GEN_per_CLASS +\n",
    "                                   [0,0,0,0,0,0,0,1,0,0]*N_GEN_per_CLASS +\n",
    "                                   [0,0,0,0,0,0,0,0,1,0]*N_GEN_per_CLASS +\n",
    "                                   [0,0,0,0,0,0,0,0,0,1]*N_GEN_per_CLASS, \n",
    "                                   dtype='float32').reshape((N_GEN,10)))"
   ]
  },
  {
   "cell_type": "code",
   "execution_count": 371,
   "metadata": {
    "colab": {},
    "colab_type": "code",
    "id": "jkV2uEM4ykxF"
   },
   "outputs": [],
   "source": [
    "images_GEN = generator([noise_GEN, labels_GEN], training=False)\n",
    "images_tt = layers.Flatten()(images_GEN)"
   ]
  },
  {
   "cell_type": "code",
   "execution_count": 372,
   "metadata": {
    "colab": {},
    "colab_type": "code",
    "id": "wqAmbPcSy_aP"
   },
   "outputs": [],
   "source": [
    "labels_tt = tf.Variable(np.array([0]*N_GEN_per_CLASS + \n",
    "                                   [1]*N_GEN_per_CLASS +\n",
    "                                   [2]*N_GEN_per_CLASS +\n",
    "                                   [3]*N_GEN_per_CLASS +\n",
    "                                   [4]*N_GEN_per_CLASS +\n",
    "                                   [5]*N_GEN_per_CLASS +\n",
    "                                   [6]*N_GEN_per_CLASS +\n",
    "                                   [7]*N_GEN_per_CLASS +\n",
    "                                   [8]*N_GEN_per_CLASS +\n",
    "                                   [9]*N_GEN_per_CLASS, \n",
    "                                   dtype='float32').reshape((N_GEN,1)))"
   ]
  },
  {
   "cell_type": "code",
   "execution_count": 373,
   "metadata": {
    "colab": {
     "base_uri": "https://localhost:8080/",
     "height": 51
    },
    "colab_type": "code",
    "id": "VHlJsKCWy1cb",
    "outputId": "e47a1844-d438-4478-8edc-705e5a8a2ce4"
   },
   "outputs": [
    {
     "name": "stdout",
     "output_type": "stream",
     "text": [
      "(5000, 1)\n"
     ]
    },
    {
     "data": {
      "text/plain": [
       "TensorShape([5000, 784])"
      ]
     },
     "execution_count": 373,
     "metadata": {},
     "output_type": "execute_result"
    }
   ],
   "source": [
    "print(labels_tt.shape)\n",
    "images_tt.shape"
   ]
  },
  {
   "cell_type": "code",
   "execution_count": 375,
   "metadata": {
    "colab": {},
    "colab_type": "code",
    "id": "2npDQqY3zWHt"
   },
   "outputs": [],
   "source": [
    "Y_train = labels_tt[:images_tt.shape[0]]\n",
    "X_train = images_tt"
   ]
  },
  {
   "cell_type": "markdown",
   "metadata": {
    "colab_type": "text",
    "id": "Qtb06W4a-nWD"
   },
   "source": [
    "### Validation Results"
   ]
  },
  {
   "cell_type": "code",
   "execution_count": 376,
   "metadata": {
    "colab": {
     "base_uri": "https://localhost:8080/",
     "height": 122
    },
    "colab_type": "code",
    "id": "YJNN15kNDLOf",
    "outputId": "7789a8dc-50b3-4813-f190-0f0b588984b1"
   },
   "outputs": [
    {
     "name": "stdout",
     "output_type": "stream",
     "text": [
      "Requirement already satisfied: sklearn in /usr/local/lib/python3.6/dist-packages (0.0)\n",
      "Requirement already satisfied: scikit-learn in /usr/local/lib/python3.6/dist-packages (from sklearn) (0.22)\n",
      "Requirement already satisfied: joblib>=0.11 in /usr/local/lib/python3.6/dist-packages (from scikit-learn->sklearn) (0.14.0)\n",
      "Requirement already satisfied: scipy>=0.17.0 in /usr/local/lib/python3.6/dist-packages (from scikit-learn->sklearn) (1.3.3)\n",
      "Requirement already satisfied: numpy>=1.11.0 in /usr/local/lib/python3.6/dist-packages (from scikit-learn->sklearn) (1.17.2)\n",
      "\u001b[33mWARNING: You are using pip version 19.2.3, however version 19.3.1 is available.\n",
      "You should consider upgrading via the 'pip install --upgrade pip' command.\u001b[0m\n"
     ]
    }
   ],
   "source": [
    "!pip install sklearn"
   ]
  },
  {
   "cell_type": "code",
   "execution_count": 377,
   "metadata": {
    "colab": {},
    "colab_type": "code",
    "id": "YJG6e-dVHg6f"
   },
   "outputs": [],
   "source": [
    "from sklearn.preprocessing import label_binarize\n",
    "from sklearn.multiclass import OneVsRestClassifier\n",
    "from sklearn.metrics import roc_curve, auc\n",
    "from sklearn import svm\n",
    "from sklearn.tree import DecisionTreeClassifier\n",
    "from sklearn.linear_model import LogisticRegression\n",
    "from sklearn.ensemble import RandomForestClassifier\n",
    "from sklearn.naive_bayes import GaussianNB\n",
    "from sklearn.naive_bayes import BernoulliNB\n",
    "from sklearn.ensemble import AdaBoostClassifier\n",
    "from sklearn.neural_network import MLPClassifier\n",
    "from sklearn.preprocessing import label_binarize\n",
    "from sklearn.exceptions import ConvergenceWarning\n",
    "from sklearn.utils.testing import ignore_warnings\n",
    "from sklearn.preprocessing import LabelBinarizer"
   ]
  },
  {
   "cell_type": "code",
   "execution_count": null,
   "metadata": {},
   "outputs": [],
   "source": [
    "def compute_fpr_tpr_roc(Y_test, Y_score):\n",
    "    n_classes = Y_score.shape[1]\n",
    "    false_positive_rate = dict()\n",
    "    true_positive_rate = dict()\n",
    "    roc_auc = dict()\n",
    "    for class_cntr in range(n_classes):\n",
    "        false_positive_rate[class_cntr], true_positive_rate[class_cntr], _ = roc_curve(Y_test[:, class_cntr],\n",
    "                                                                                       Y_score[:, class_cntr])\n",
    "        roc_auc[class_cntr] = auc(false_positive_rate[class_cntr], true_positive_rate[class_cntr])\n",
    "\n",
    "    # Compute micro-average ROC curve and ROC area\n",
    "    false_positive_rate[\"micro\"], true_positive_rate[\"micro\"], _ = roc_curve(Y_test.ravel(), Y_score.ravel())\n",
    "    roc_auc[\"micro\"] = auc(false_positive_rate[\"micro\"], true_positive_rate[\"micro\"])\n",
    "\n",
    "    return false_positive_rate, true_positive_rate, roc_auc"
   ]
  },
  {
   "cell_type": "code",
   "execution_count": null,
   "metadata": {},
   "outputs": [],
   "source": [
    "tf.random.set_seed(1)\n",
    "classifier_LR = OneVsRestClassifier(LogisticRegression(solver='lbfgs', \n",
    "                                                       multi_class='multinomial', \n",
    "                                                       random_state=2))\n",
    "Y_score = classifier_LR.fit(X_train, Y_train).predict_proba(X_train)\n",
    "false_positive_rate, true_positive_rate, roc_auc = compute_fpr_tpr_roc(np.array(Y_train), Y_score)\n",
    "[str(au) + \" = \" + str(roc_auc[au]) for au in roc_auc]"
   ]
  },
  {
   "cell_type": "code",
   "execution_count": null,
   "metadata": {},
   "outputs": [],
   "source": [
    "tf.random.set_seed(1)\n",
    "classifier_NN = OneVsRestClassifier(MLPClassifier(random_state=2, alpha=1))\n",
    "\n",
    "Y_score = classifier_NN.fit(X_train, Y_train).predict_proba(X_train)\n",
    "false_positive_rate, true_positive_rate, roc_auc = compute_fpr_tpr_roc(np.array(Y_train), Y_score)\n",
    "[str(au) + \" = \" + str(roc_auc[au]) for au in roc_auc]"
   ]
  },
  {
   "cell_type": "markdown",
   "metadata": {},
   "source": [
    "### Test Results"
   ]
  },
  {
   "cell_type": "code",
   "execution_count": 378,
   "metadata": {
    "colab": {
     "base_uri": "https://localhost:8080/",
     "height": 85
    },
    "colab_type": "code",
    "id": "ms0HrSyw6KLi",
    "outputId": "9acb7603-89e5-43b1-ec94-3940a9783474"
   },
   "outputs": [
    {
     "name": "stdout",
     "output_type": "stream",
     "text": [
      "(10000, 28, 28, 1)\n",
      "(10000, 10)\n",
      "(10000, 784)\n",
      "(10000, 10)\n"
     ]
    }
   ],
   "source": [
    "(_, _), (X_test_org, Y_test_org) = tf.keras.datasets.mnist.load_data()\n",
    "\n",
    "X_test_org = X_test_org.reshape(X_test_org.shape[0], 28, 28, 1).astype('float32')\n",
    "X_test_org = (X_test_org - 127.5) / 127.5 # Normalize the images to [-1, 1]\n",
    "#X_test_org = X_test_org[(Y_test_org == 4) | (Y_test_org == 9)]\n",
    "print(X_test_org.shape)\n",
    "\n",
    "#Y_test_org = Y_test_org[(Y_test_org == 4) | (Y_test_org == 9)]\n",
    "#Y_test_org = np.array([int(y==4) for y in Y_test_org])\n",
    "\n",
    "\n",
    "Y_test_org = [int(y) for y in Y_test_org]\n",
    "classes = [0, 1, 2, 3, 4, 5, 6, 7, 8, 9]\n",
    "Y_test_org = label_binarize(Y_test_org, classes=classes)\n",
    "\n",
    "print(Y_test_org.shape)\n",
    "\n",
    "X_test = layers.Flatten()(X_test_org)\n",
    "Y_test = layers.Flatten()(Y_test_org)\n",
    "print(X_test.shape)\n",
    "print(Y_test.shape)"
   ]
  },
  {
   "cell_type": "code",
   "execution_count": null,
   "metadata": {
    "colab": {
     "base_uri": "https://localhost:8080/",
     "height": 564
    },
    "colab_type": "code",
    "id": "zZJJAJG07Zm2",
    "outputId": "f1da9c1c-02cd-4702-d422-0a0c1a29f898"
   },
   "outputs": [],
   "source": [
    "tf.random.set_seed(1)\n",
    "classifier_LR = OneVsRestClassifier(LogisticRegression(solver='lbfgs', \n",
    "                                                       multi_class='multinomial', \n",
    "                                                       random_state=2))\n",
    "Y_score = classifier_LR.fit(X_train, Y_train).predict_proba(X_test)\n",
    "false_positive_rate, true_positive_rate, roc_auc = compute_fpr_tpr_roc(np.array(Y_test), Y_score)\n",
    "[str(au) + \" = \" + str(roc_auc[au]) for au in roc_auc]"
   ]
  },
  {
   "cell_type": "code",
   "execution_count": null,
   "metadata": {
    "colab": {
     "base_uri": "https://localhost:8080/",
     "height": 564
    },
    "colab_type": "code",
    "id": "OhHFs0M85Yng",
    "outputId": "44637e4a-eb25-420c-969c-c0867849ddf7"
   },
   "outputs": [],
   "source": [
    "tf.random.set_seed(1)\n",
    "classifier_NN = OneVsRestClassifier(MLPClassifier(random_state=2, alpha=1))\n",
    "\n",
    "Y_score = classifier_NN.fit(X_train, Y_train).predict_proba(X_test)\n",
    "false_positive_rate, true_positive_rate, roc_auc = compute_fpr_tpr_roc(np.array(Y_test), Y_score)\n",
    "[str(au) + \" = \" + str(roc_auc[au]) for au in roc_auc]"
   ]
  },
  {
   "cell_type": "code",
   "execution_count": null,
   "metadata": {
    "colab": {},
    "colab_type": "code",
    "id": "qeTRQdB_DLO4"
   },
   "outputs": [],
   "source": [
    "from sklearn import metrics\n",
    "\n",
    "def multiclass_roc_auc_score(y_test, y_pred, average=\"macro\"):\n",
    "    lb = LabelBinarizer()\n",
    "    lb.fit(y_test)\n",
    "    y_test = lb.transform(y_test)\n",
    "    y_pred = lb.transform(y_pred)\n",
    "    return metrics.roc_auc_score(y_test, y_pred, average=average)"
   ]
  },
  {
   "cell_type": "code",
   "execution_count": null,
   "metadata": {
    "colab": {},
    "colab_type": "code",
    "id": "ib51Rse6DLO-",
    "outputId": "31f293a6-3359-4c31-bd69-9310d7e90623"
   },
   "outputs": [],
   "source": [
    "tf.random.set_seed(1)\n",
    "classifier_NN = OneVsRestClassifier(MLPClassifier(random_state=2, alpha=1))\n",
    "classifier_NN.fit(X_train, Y_train)\n",
    "\n",
    "Y_score = classifier_NN.predict(X_test)\n",
    "\n",
    "print(multiclass_roc_auc_score(Y_test, Y_score))\n",
    "print(metrics.classification_report(Y_test, Y_score))"
   ]
  }
 ],
 "metadata": {
  "accelerator": "GPU",
  "colab": {
   "collapsed_sections": [
    "nqaSIxRXegHt"
   ],
   "name": "CUR__opt_DP_C_DCGAN_MNIST.ipynb",
   "provenance": [],
   "toc_visible": true
  },
  "kernelspec": {
   "display_name": "Python 3",
   "language": "python",
   "name": "python3"
  },
  "language_info": {
   "codemirror_mode": {
    "name": "ipython",
    "version": 3
   },
   "file_extension": ".py",
   "mimetype": "text/x-python",
   "name": "python",
   "nbconvert_exporter": "python",
   "pygments_lexer": "ipython3",
   "version": "3.6.8"
  }
 },
 "nbformat": 4,
 "nbformat_minor": 4
}
