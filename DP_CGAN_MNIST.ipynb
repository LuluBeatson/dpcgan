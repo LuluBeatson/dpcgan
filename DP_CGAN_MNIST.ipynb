{
  "nbformat": 4,
  "nbformat_minor": 0,
  "metadata": {
    "accelerator": "GPU",
    "colab": {
      "name": "DP_CGAN_MNIST.ipynb",
      "provenance": [],
      "collapsed_sections": []
    },
    "kernelspec": {
      "display_name": "Python 3",
      "language": "python",
      "name": "python3"
    },
    "language_info": {
      "codemirror_mode": {
        "name": "ipython",
        "version": 3
      },
      "file_extension": ".py",
      "mimetype": "text/x-python",
      "name": "python",
      "nbconvert_exporter": "python",
      "pygments_lexer": "ipython3",
      "version": "3.6.3"
    }
  },
  "cells": [
    {
      "cell_type": "markdown",
      "metadata": {
        "id": "7K1HkyrBeWiW",
        "colab_type": "text"
      },
      "source": [
        "# DP-CGAN: Differentially Private Conditional GAN - TensorFlow 2\n",
        "\n",
        "<table class=\"tfo-notebook-buttons\" align=\"left\">\n",
        "  <td>\n",
        "    <a target=\"_blank\" href=\"https://colab.research.google.com/github/LuluBeatson/dpcgan/blob/master/DP_CGAN_MNIST.ipynb\">\n",
        "    <img src=\"https://www.tensorflow.org/images/colab_logo_32px.png\" />\n",
        "    Run in Google Colab</a>\n",
        "  </td>\n",
        "  <td>\n",
        "    <a target=\"_blank\" href=\"https://github.com/ricardocarvalhods/dpcgan/blob/master/DP_CGAN_MNIST.ipynb\">\n",
        "    <img src=\"https://www.tensorflow.org/images/GitHub-Mark-32px.png\" />\n",
        "    View source on GitHub</a>\n",
        "  </td>\n",
        "</table>\n",
        "<br/><br/><br/>\n",
        "\n",
        "**Author**: \n",
        "- Ricardo S. Carvalho\n",
        "    - PhD Student at Simon Fraser University\n",
        "    - Please feel free to get in touch via (rsilvaca [at] sfu [dot] ca)\n",
        "    - Personal website: [ricardocarvalho.ca](http://ricardocarvalho.ca/)\n",
        "\n",
        "**Content**:\n",
        "- This notebook contains the implementation of a Differentially Private Conditional GAN, originally described on [Torkzadehmahani et al. 2019](http://openaccess.thecvf.com/content_CVPRW_2019/papers/CV-COPS/Torkzadehmahani_DP-CGAN_Differentially_Private_Synthetic_Data_and_Label_Generation_CVPRW_2019_paper.pdf).\n",
        "- We include a TF 2 version implemented from scratch, using the Keras API and a `tf.GradientTape` training loop.\n",
        "- To successfully use DP on a Conditional GAN, we design a **custom optimizer**.\n",
        "- We include results on the MNIST dataset.\n",
        "\n",
        "**References**:\n",
        "- The GAN implementation was inspired by TensorFlow's tutorial on Convolutional GANs, which can be found [here](https://www.tensorflow.org/tutorials/generative/dcgan).\n",
        "- The DP integration was inspired by TF Privacy's tutorial on DPSGD on eager Keras, available [on this link](https://github.com/tensorflow/privacy/blob/master/tutorials/mnist_dpsgd_tutorial_eager.py).\n",
        "- The DP conditional application follows ideas from the original TF 1.15 code on [this github repository](https://github.com/reihaneh-torkzadehmahani/DP-CGAN), with some modifications to clear inconsistencies in the code. We further discussed the differences in a [report](https://github.com/ricardocarvalhods/dpcgan/blob/master/report.pdf).\n",
        "\n",
        "**Acknowledgments**:\n",
        "- We thank the **first author of the DP-CGAN**, Reihaneh Torkzadehmahani, for clarifying the settings used in their work and for fruitful discussions about the framework. \n",
        "- Additionally, we thank **Google privacy engineers** Galen Andrew, Steve Chien and Brendan McMahan for helping with important questions about TF privacy.\n",
        "\n",
        "**Pre-requisites**:\n",
        "- We consider the following are known to anyone using this notebook:\n",
        "    - Generative Adversarial Networks (GANs): Knowledge of how they work, especially loss functions.\n",
        "        - Suggestion of reference: [Udacity videos from Goodfellow on GANs](https://mc.ai/generative-adversarial-networks-gans-by-udacity-the-complete-youtube-playlist/).\n",
        "    - Differential Privacy (DP): Basic knowledge to know what the privacy parameters mean when stating a mechanism is (epsilon, delta)-differentially private.\n",
        "        - DP-SGD: Understanding main modifications needed to SGD to make it differentially private.\n",
        "        - Suggestion of reference: [blog post of DP-SGD on TF](http://www.cleverhans.io/privacy/2019/03/26/machine-learning-with-differential-privacy-in-tensorflow.html) and [tutorials on TF Privacy](https://github.com/tensorflow/privacy/tree/master/tutorials)."
      ]
    },
    {
      "cell_type": "markdown",
      "metadata": {
        "id": "gISeunA2eWie",
        "colab_type": "text"
      },
      "source": [
        "---\n",
        "\n",
        "## Introduction\n",
        "\n",
        "We implement a conditional GAN ([Mirza and Osindero, 2014](https://arxiv.org/abs/1411.1784)), which is a GAN where both Discriminator and Generator are conditioned on some information, such as labels. Additionally, we want to protect the privacy of the training data, as we know ([Hayes et. al, 2017](https://arxiv.org/abs/1705.07663)) it is possible to perform membership inference on it. So to address this problem, we use differential privacy on the GAN training by applying DP-SGD from [Abadi et. al, 2016](https://arxiv.org/abs/1607.00133).\n",
        "\n",
        "Generally, DP-SGD enforces privacy by clipping gradients individually and adding Gaussian noise -- to learn more about DP-SGD and its use with TF, I recommend [this excellent post](http://www.cleverhans.io/privacy/2019/03/26/machine-learning-with-differential-privacy-in-tensorflow.html). Since only the Discriminator has access to the private data, we have to use DP-SGD only during the Discriminator training. \n",
        "\n",
        "However, Discriminator learns via both private data and the generated data (output of Generator). Since the generated data is not sensitive, as it is created from noise, we do not need to apply DP-SGD and modify the gradients for the discriminator when learning from the generated data. For this reason we modify the discriminator's optimizer to only add noise to the gradients when learning from the real data, and not add noise when learning from the generated data. Moreover, we combine gradients from both real and generated on a single update step, following the approach from [Torkzadehmahani et al. 2019](http://openaccess.thecvf.com/content_CVPRW_2019/papers/CV-COPS/Torkzadehmahani_DP-CGAN_Differentially_Private_Synthetic_Data_and_Label_Generation_CVPRW_2019_paper.pdf)."
      ]
    },
    {
      "cell_type": "markdown",
      "metadata": {
        "id": "TgUl3Ow_eWif",
        "colab_type": "text"
      },
      "source": [
        "---\n",
        "\n",
        "## Imports\n",
        "\n",
        "### Connect to Drive"
      ]
    },
    {
      "cell_type": "code",
      "metadata": {
        "id": "VBWDYtHbeWih",
        "colab_type": "code",
        "colab": {}
      },
      "source": [
        "ROOT = '/content/gdrive'"
      ],
      "execution_count": 1,
      "outputs": []
    },
    {
      "cell_type": "code",
      "metadata": {
        "id": "RRNp7wkueWio",
        "colab_type": "code",
        "colab": {
          "base_uri": "https://localhost:8080/",
          "height": 33
        },
        "outputId": "5ef7c380-1f88-4cff-83a1-6ff80dd4b35e"
      },
      "source": [
        "# Connect to Google Drive\n",
        "# Only run this cell if on Google Colab\n",
        "from google.colab import drive\n",
        "drive.mount(ROOT, force_remount=True)"
      ],
      "execution_count": 2,
      "outputs": [
        {
          "output_type": "stream",
          "text": [
            "Mounted at /content/gdrive\n"
          ],
          "name": "stdout"
        }
      ]
    },
    {
      "cell_type": "markdown",
      "metadata": {
        "id": "ER5Q8cbTeWit",
        "colab_type": "text"
      },
      "source": [
        "### General imports"
      ]
    },
    {
      "cell_type": "code",
      "metadata": {
        "colab_type": "code",
        "id": "lAnvkkKKj7yU",
        "colab": {}
      },
      "source": [
        "from __future__ import absolute_import, division, print_function, unicode_literals"
      ],
      "execution_count": 3,
      "outputs": []
    },
    {
      "cell_type": "code",
      "metadata": {
        "colab_type": "code",
        "id": "gg5B1yY7kA6w",
        "colab": {}
      },
      "source": [
        "try:\n",
        "  # %tensorflow_version only exists in Colab.\n",
        "  %tensorflow_version 2.x\n",
        "except Exception:\n",
        "  pass"
      ],
      "execution_count": 4,
      "outputs": []
    },
    {
      "cell_type": "code",
      "metadata": {
        "colab_type": "code",
        "id": "IOSmuaY0kBXR",
        "colab": {}
      },
      "source": [
        "import tensorflow as tf"
      ],
      "execution_count": 5,
      "outputs": []
    },
    {
      "cell_type": "code",
      "metadata": {
        "colab_type": "code",
        "id": "ejbzd6zdDLMy",
        "colab": {
          "base_uri": "https://localhost:8080/",
          "height": 35
        },
        "outputId": "fefaac01-603c-49f6-e376-4b1d2bccef3e"
      },
      "source": [
        "tf.__version__"
      ],
      "execution_count": 6,
      "outputs": [
        {
          "output_type": "execute_result",
          "data": {
            "application/vnd.google.colaboratory.intrinsic+json": {
              "type": "string"
            },
            "text/plain": [
              "'2.3.0'"
            ]
          },
          "metadata": {
            "tags": []
          },
          "execution_count": 6
        }
      ]
    },
    {
      "cell_type": "code",
      "metadata": {
        "colab_type": "code",
        "id": "qDwo4ClNlTts",
        "colab": {
          "base_uri": "https://localhost:8080/",
          "height": 104
        },
        "outputId": "46964811-cb48-4e94-f174-f2acd66ac171"
      },
      "source": [
        "# To use Differential Privacy\n",
        "!pip install tensorflow_privacy"
      ],
      "execution_count": 7,
      "outputs": [
        {
          "output_type": "stream",
          "text": [
            "Requirement already satisfied: tensorflow_privacy in /usr/local/lib/python3.6/dist-packages (0.2.2)\n",
            "Requirement already satisfied: mpmath in /usr/local/lib/python3.6/dist-packages (from tensorflow_privacy) (1.1.0)\n",
            "Requirement already satisfied: scipy>=0.17 in /usr/local/lib/python3.6/dist-packages (from tensorflow_privacy) (1.4.1)\n",
            "Requirement already satisfied: numpy>=1.13.3 in /usr/local/lib/python3.6/dist-packages (from scipy>=0.17->tensorflow_privacy) (1.18.5)\n"
          ],
          "name": "stdout"
        }
      ]
    },
    {
      "cell_type": "code",
      "metadata": {
        "id": "qUrs35HjeWjG",
        "colab_type": "code",
        "colab": {
          "base_uri": "https://localhost:8080/",
          "height": 121
        },
        "outputId": "1bc6a07b-5c2b-429a-ce73-be6a01928645"
      },
      "source": [
        "# To create models for validation and testing\n",
        "!pip install sklearn"
      ],
      "execution_count": 8,
      "outputs": [
        {
          "output_type": "stream",
          "text": [
            "Requirement already satisfied: sklearn in /usr/local/lib/python3.6/dist-packages (0.0)\n",
            "Requirement already satisfied: scikit-learn in /usr/local/lib/python3.6/dist-packages (from sklearn) (0.22.2.post1)\n",
            "Requirement already satisfied: scipy>=0.17.0 in /usr/local/lib/python3.6/dist-packages (from scikit-learn->sklearn) (1.4.1)\n",
            "Requirement already satisfied: numpy>=1.11.0 in /usr/local/lib/python3.6/dist-packages (from scikit-learn->sklearn) (1.18.5)\n",
            "Requirement already satisfied: joblib>=0.11 in /usr/local/lib/python3.6/dist-packages (from scikit-learn->sklearn) (0.16.0)\n"
          ],
          "name": "stdout"
        }
      ]
    },
    {
      "cell_type": "code",
      "metadata": {
        "colab_type": "code",
        "id": "gjGtjZWokG36",
        "colab": {}
      },
      "source": [
        "import glob\n",
        "import matplotlib.pyplot as plt\n",
        "import numpy as np\n",
        "import os\n",
        "import PIL\n",
        "from tensorflow.keras import layers, models\n",
        "import tensorflow.keras.backend as K\n",
        "import time\n",
        "\n",
        "from IPython import display\n",
        "\n",
        "from tensorflow_privacy.privacy.analysis import compute_dp_sgd_privacy\n",
        "from tensorflow_privacy.privacy.optimizers.dp_optimizer import DPGradientDescentGaussianOptimizer"
      ],
      "execution_count": 9,
      "outputs": []
    },
    {
      "cell_type": "code",
      "metadata": {
        "id": "n0L-DdHOeWjM",
        "colab_type": "code",
        "colab": {}
      },
      "source": [
        "# Method obtained from https://stackoverflow.com/questions/41123879/numpy-random-choice-in-tensorflow\n",
        "def _random_choice(inputs, n_samples):\n",
        "    \"\"\"\n",
        "    With replacement.\n",
        "    Params:\n",
        "      inputs (Tensor): Shape [n_states, n_features]\n",
        "      n_samples (int): The number of random samples to take.\n",
        "    Returns:\n",
        "      sampled_inputs (Tensor): Shape [n_samples, n_features]\n",
        "    \"\"\"\n",
        "    # (1, n_states) since multinomial requires 2D logits.\n",
        "    uniform_log_prob = tf.expand_dims(tf.zeros(tf.shape(inputs)[0]), 0)\n",
        "\n",
        "    ind = tf.compat.v1.multinomial(uniform_log_prob, n_samples)\n",
        "    ind = tf.squeeze(ind, 0, name=\"random_choice_ind\")  # (n_samples,)\n",
        "\n",
        "    return tf.gather(inputs, ind, name=\"random_choice\")"
      ],
      "execution_count": 10,
      "outputs": []
    },
    {
      "cell_type": "code",
      "metadata": {
        "id": "_2WUvm2LeWjS",
        "colab_type": "code",
        "colab": {
          "base_uri": "https://localhost:8080/",
          "height": 34
        },
        "outputId": "56fcdf27-6379-42ad-defb-76ea99439712"
      },
      "source": [
        "from sklearn.preprocessing import label_binarize\n",
        "from sklearn.multiclass import OneVsRestClassifier\n",
        "from sklearn.linear_model import LogisticRegression\n",
        "from sklearn.neural_network import MLPClassifier\n",
        "from sklearn.exceptions import ConvergenceWarning\n",
        "from sklearn.metrics import roc_curve, auc\n",
        "ConvergenceWarning('ignore')"
      ],
      "execution_count": 11,
      "outputs": [
        {
          "output_type": "execute_result",
          "data": {
            "text/plain": [
              "sklearn.exceptions.ConvergenceWarning('ignore')"
            ]
          },
          "metadata": {
            "tags": []
          },
          "execution_count": 11
        }
      ]
    },
    {
      "cell_type": "code",
      "metadata": {
        "id": "AqszHUqweWjW",
        "colab_type": "code",
        "colab": {}
      },
      "source": [
        "# Method obtained from https://github.com/reihaneh-torkzadehmahani/DP-CGAN\n",
        "def compute_fpr_tpr_roc(Y_test, Y_score):\n",
        "    n_classes = Y_score.shape[1]\n",
        "    false_positive_rate = dict()\n",
        "    true_positive_rate = dict()\n",
        "    roc_auc = dict()\n",
        "    for class_cntr in range(n_classes):\n",
        "        false_positive_rate[class_cntr], true_positive_rate[class_cntr], _ = roc_curve(Y_test[:, class_cntr],\n",
        "                                                                                       Y_score[:, class_cntr])\n",
        "        roc_auc[class_cntr] = auc(false_positive_rate[class_cntr], true_positive_rate[class_cntr])\n",
        "\n",
        "    # Compute micro-average ROC curve and ROC area\n",
        "    false_positive_rate[\"micro\"], true_positive_rate[\"micro\"], _ = roc_curve(Y_test.ravel(), Y_score.ravel())\n",
        "    roc_auc[\"micro\"] = auc(false_positive_rate[\"micro\"], true_positive_rate[\"micro\"])\n",
        "\n",
        "    return false_positive_rate, true_positive_rate, roc_auc"
      ],
      "execution_count": 12,
      "outputs": []
    },
    {
      "cell_type": "markdown",
      "metadata": {
        "colab_type": "text",
        "id": "JuCo5voGT-Jb"
      },
      "source": [
        "## Modified Optimizer for DP\n",
        "\n",
        "The optimizer below is a modification of the original from TF Privacy, [available here](https://github.com/tensorflow/privacy/blob/master/tensorflow_privacy/privacy/optimizers/dp_optimizer.py) to allow setting different values of noise multipliers and clipping factor on different steps of the optimization.\n",
        "\n",
        "The main modification lies on the `compute_gradients` method, which now includes:\n",
        "- *curr_noise_mult*: Current noise_multiplier\n",
        "- *curr_norm_clip*: Current L2 norm clipping factor\n",
        "\n",
        "On every step of the optimization we now additionally pass these parameters to control the privacy effects."
      ]
    },
    {
      "cell_type": "code",
      "metadata": {
        "colab_type": "code",
        "id": "hOBQELw7mo9Z",
        "colab": {}
      },
      "source": [
        "from absl import logging\n",
        "import collections\n",
        "\n",
        "from tensorflow_privacy.privacy.analysis import privacy_ledger\n",
        "from tensorflow_privacy.privacy.dp_query import gaussian_query\n",
        "\n",
        "def make_optimizer_class(cls):\n",
        "  \"\"\"Constructs a DP optimizer class from an existing one.\"\"\"\n",
        "  parent_code = tf.compat.v1.train.Optimizer.compute_gradients.__code__\n",
        "  child_code = cls.compute_gradients.__code__\n",
        "  GATE_OP = tf.compat.v1.train.Optimizer.GATE_OP  # pylint: disable=invalid-name\n",
        "  if child_code is not parent_code:\n",
        "    logging.warning(\n",
        "        'WARNING: Calling make_optimizer_class() on class %s that overrides '\n",
        "        'method compute_gradients(). Check to ensure that '\n",
        "        'make_optimizer_class() does not interfere with overridden version.',\n",
        "        cls.__name__)\n",
        "\n",
        "  class DPOptimizerClass(cls):\n",
        "    \"\"\"Differentially private subclass of given class cls.\"\"\"\n",
        "\n",
        "    _GlobalState = collections.namedtuple(\n",
        "      '_GlobalState', ['l2_norm_clip', 'stddev'])\n",
        "    \n",
        "    def __init__(\n",
        "        self,\n",
        "        dp_sum_query,\n",
        "        num_microbatches=None,\n",
        "        unroll_microbatches=False,\n",
        "        *args,  # pylint: disable=keyword-arg-before-vararg, g-doc-args\n",
        "        **kwargs):\n",
        "      \"\"\"Initialize the DPOptimizerClass.\n",
        "\n",
        "      Args:\n",
        "        dp_sum_query: DPQuery object, specifying differential privacy\n",
        "          mechanism to use.\n",
        "        num_microbatches: How many microbatches into which the minibatch is\n",
        "          split. If None, will default to the size of the minibatch, and\n",
        "          per-example gradients will be computed.\n",
        "        unroll_microbatches: If true, processes microbatches within a Python\n",
        "          loop instead of a tf.while_loop. Can be used if using a tf.while_loop\n",
        "          raises an exception.\n",
        "      \"\"\"\n",
        "      super(DPOptimizerClass, self).__init__(*args, **kwargs)\n",
        "      self._dp_sum_query = dp_sum_query\n",
        "      self._num_microbatches = num_microbatches\n",
        "      self._global_state = self._dp_sum_query.initial_global_state()\n",
        "      # TODO(b/122613513): Set unroll_microbatches=True to avoid this bug.\n",
        "      # Beware: When num_microbatches is large (>100), enabling this parameter\n",
        "      # may cause an OOM error.\n",
        "      self._unroll_microbatches = unroll_microbatches\n",
        "\n",
        "    def compute_gradients(self,\n",
        "                          loss,\n",
        "                          var_list,\n",
        "                          gate_gradients=GATE_OP,\n",
        "                          aggregation_method=None,\n",
        "                          colocate_gradients_with_ops=False,\n",
        "                          grad_loss=None,\n",
        "                          gradient_tape=None,\n",
        "                          curr_noise_mult=0,\n",
        "                          curr_norm_clip=1):\n",
        "\n",
        "      self._dp_sum_query = gaussian_query.GaussianSumQuery(curr_norm_clip, \n",
        "                                                           curr_norm_clip*curr_noise_mult)\n",
        "      self._global_state = self._dp_sum_query.make_global_state(curr_norm_clip, \n",
        "                                                                curr_norm_clip*curr_noise_mult)\n",
        "      \n",
        "\n",
        "      # TF is running in Eager mode, check we received a vanilla tape.\n",
        "      if not gradient_tape:\n",
        "        raise ValueError('When in Eager mode, a tape needs to be passed.')\n",
        "\n",
        "      vector_loss = loss()\n",
        "      if self._num_microbatches is None:\n",
        "        self._num_microbatches = tf.shape(input=vector_loss)[0]\n",
        "      sample_state = self._dp_sum_query.initial_sample_state(var_list)\n",
        "      microbatches_losses = tf.reshape(vector_loss, [self._num_microbatches, -1])\n",
        "      sample_params = (self._dp_sum_query.derive_sample_params(self._global_state))\n",
        "\n",
        "      def process_microbatch(i, sample_state):\n",
        "        \"\"\"Process one microbatch (record) with privacy helper.\"\"\"\n",
        "        microbatch_loss = tf.reduce_mean(input_tensor=tf.gather(microbatches_losses, [i]))\n",
        "        grads = gradient_tape.gradient(microbatch_loss, var_list)\n",
        "        sample_state = self._dp_sum_query.accumulate_record(sample_params, sample_state, grads)\n",
        "        return sample_state\n",
        "    \n",
        "      for idx in range(self._num_microbatches):\n",
        "        sample_state = process_microbatch(idx, sample_state)\n",
        "\n",
        "      if curr_noise_mult > 0:\n",
        "        grad_sums, self._global_state = (self._dp_sum_query.get_noised_result(sample_state, self._global_state))\n",
        "      else:\n",
        "        grad_sums = sample_state\n",
        "\n",
        "      def normalize(v):\n",
        "        return v / tf.cast(self._num_microbatches, tf.float32)\n",
        "\n",
        "      final_grads = tf.nest.map_structure(normalize, grad_sums)\n",
        "      grads_and_vars = final_grads#list(zip(final_grads, var_list))\n",
        "    \n",
        "      return grads_and_vars\n",
        "\n",
        "  return DPOptimizerClass\n",
        "\n",
        "\n",
        "def make_gaussian_optimizer_class(cls):\n",
        "  \"\"\"Constructs a DP optimizer with Gaussian averaging of updates.\"\"\"\n",
        "\n",
        "  class DPGaussianOptimizerClass(make_optimizer_class(cls)):\n",
        "    \"\"\"DP subclass of given class cls using Gaussian averaging.\"\"\"\n",
        "\n",
        "    def __init__(\n",
        "        self,\n",
        "        l2_norm_clip,\n",
        "        noise_multiplier,\n",
        "        num_microbatches=None,\n",
        "        ledger=None,\n",
        "        unroll_microbatches=False,\n",
        "        *args,  # pylint: disable=keyword-arg-before-vararg\n",
        "        **kwargs):\n",
        "      dp_sum_query = gaussian_query.GaussianSumQuery(\n",
        "          l2_norm_clip, l2_norm_clip * noise_multiplier)\n",
        "\n",
        "      if ledger:\n",
        "        dp_sum_query = privacy_ledger.QueryWithLedger(dp_sum_query,\n",
        "                                                      ledger=ledger)\n",
        "\n",
        "      super(DPGaussianOptimizerClass, self).__init__(\n",
        "          dp_sum_query,\n",
        "          num_microbatches,\n",
        "          unroll_microbatches,\n",
        "          *args,\n",
        "          **kwargs)\n",
        "\n",
        "    @property\n",
        "    def ledger(self):\n",
        "      return self._dp_sum_query.ledger\n",
        "\n",
        "  return DPGaussianOptimizerClass"
      ],
      "execution_count": 13,
      "outputs": []
    },
    {
      "cell_type": "code",
      "metadata": {
        "id": "iwrPjV66eWjf",
        "colab_type": "code",
        "colab": {}
      },
      "source": [
        "GradientDescentOptimizer = tf.compat.v1.train.GradientDescentOptimizer\n",
        "DPGradientDescentGaussianOptimizer_NEW = make_gaussian_optimizer_class(GradientDescentOptimizer)"
      ],
      "execution_count": 14,
      "outputs": []
    },
    {
      "cell_type": "markdown",
      "metadata": {
        "id": "fpaCV2t-eWjj",
        "colab_type": "text"
      },
      "source": [
        "## Output setup\n",
        "\n",
        "Folder definitions for storing saved models and plots of generated images throughout training."
      ]
    },
    {
      "cell_type": "code",
      "metadata": {
        "colab_type": "code",
        "id": "IuUBjz5ZEn5D",
        "colab": {}
      },
      "source": [
        "# Edit to define folder\n",
        "result_dir = ROOT + '/My Drive/Colab Notebooks/DPCGAN'"
      ],
      "execution_count": 15,
      "outputs": []
    },
    {
      "cell_type": "code",
      "metadata": {
        "colab_type": "code",
        "id": "XOcY7Xxnplya",
        "colab": {}
      },
      "source": [
        "# DO NOT EDIT THIS CELL\n",
        "\n",
        "# Define checkpoint dir and prefix\n",
        "checkpoint_dir = result_dir + '/training_checkpoints'\n",
        "\n",
        "def checkpoint_name(title):  \n",
        "  checkpoint_prefix = os.path.join(checkpoint_dir, \"ckpt__\" + str(title))\n",
        "  return(checkpoint_prefix)"
      ],
      "execution_count": 16,
      "outputs": []
    },
    {
      "cell_type": "code",
      "metadata": {
        "colab_type": "code",
        "id": "o9Lzy_t_nOzd",
        "colab": {}
      },
      "source": [
        "# DO NOT EDIT THIS CELL\n",
        "\n",
        "images_dir = result_dir + '/images'\n",
        "\n",
        "def generate_and_save_images(title, model, epoch, test_input, test_label):\n",
        "  # Notice `training` is set to False: This is so all layers run in inference mode (batchnorm).\n",
        "  predictions = model([test_input, test_label], training=False)\n",
        "\n",
        "  fig = plt.figure(figsize=(2,10))\n",
        "\n",
        "  for i in range(predictions.shape[0]):\n",
        "      plt.subplot(10, 1, i+1)\n",
        "      plt.imshow(predictions[i, :, :, 0] * 127.5 + 127.5, cmap='gray')\n",
        "      plt.axis('off')\n",
        "\n",
        "  plt.savefig(images_dir + '/' + title + '___image_at_epoch_{:04d}.png'.format(epoch))\n",
        "  plt.show()"
      ],
      "execution_count": 17,
      "outputs": []
    },
    {
      "cell_type": "code",
      "metadata": {
        "colab_type": "code",
        "id": "gubUb2LBF2Hj",
        "colab": {}
      },
      "source": [
        "if not os.path.exists(result_dir):\n",
        "  os.makedirs(result_dir)\n",
        "\n",
        "if not os.path.exists(checkpoint_dir):\n",
        "  os.makedirs(checkpoint_dir)\n",
        "\n",
        "if not os.path.exists(images_dir):\n",
        "  os.makedirs(images_dir)"
      ],
      "execution_count": 18,
      "outputs": []
    },
    {
      "cell_type": "markdown",
      "metadata": {
        "colab_type": "text",
        "id": "9Sb7NTLhqyh8"
      },
      "source": [
        "## Dataset\n",
        "\n",
        "Loading **MNIST** and creating hot encoding for labels."
      ]
    },
    {
      "cell_type": "code",
      "metadata": {
        "colab_type": "code",
        "id": "D4yIv7MAqn9a",
        "colab": {}
      },
      "source": [
        "(train_images, train_labels), (_, _) = tf.keras.datasets.mnist.load_data()\n",
        "train_images = train_images.reshape(train_images.shape[0], 28, 28, 1).astype('float32')\n",
        "train_images = (train_images - 127.5) / 127.5 # Normalize the images to [-1, 1]\n",
        "train_labels = train_labels.reshape((60000, 1))\n",
        "COND_num_classes = 10 # Number of classes, set to 10 for MNIST dataset\n",
        "train_labels_vec = np.zeros((len(train_labels), COND_num_classes), dtype='float32')\n",
        "for i, label in enumerate(train_labels):\n",
        "    train_labels_vec[i, int(train_labels[i])] = 1.0"
      ],
      "execution_count": 19,
      "outputs": []
    },
    {
      "cell_type": "markdown",
      "metadata": {
        "colab_type": "text",
        "id": "ehOkmDl__ZyH"
      },
      "source": [
        "## C-GAN Models\n",
        "\n",
        "Both Generator and Discriminator follow simple architectures, with fully connected neural networks.\n",
        "\n",
        "We emphasize the use of C-GAN, therefore conditioning the models to the label information - notice the additional input on both networks below for labels."
      ]
    },
    {
      "cell_type": "code",
      "metadata": {
        "id": "byqg8h3FeWkA",
        "colab_type": "code",
        "colab": {}
      },
      "source": [
        "# Dimension of Latent Space - Does NOT affect DP-EPSILON\n",
        "Z_DIM = 100"
      ],
      "execution_count": 20,
      "outputs": []
    },
    {
      "cell_type": "code",
      "metadata": {
        "colab_type": "code",
        "id": "PVBOYFJskMTZ",
        "colab": {}
      },
      "source": [
        "def make_generator_model_FCC():\n",
        "    # INPUT: label input\n",
        "    in_label = layers.Input(shape=(COND_num_classes,))\n",
        "\n",
        "    # INPUT: image generator input\n",
        "    in_lat = layers.Input(shape=(Z_DIM,))\n",
        "\n",
        "    # MERGE\n",
        "    merge = layers.concatenate([in_lat, in_label], axis=1)\n",
        "\n",
        "    ge1 = layers.Dense(128, use_bias=True)(merge)\n",
        "    ge1 = layers.ReLU()(ge1)\n",
        "\n",
        "    ge2 = layers.Dense(784, use_bias=True, activation=\"tanh\")(ge1)\n",
        "    out_layer = layers.Reshape((28, 28, 1))(ge2)\n",
        "\n",
        "    model = models.Model([in_lat, in_label], out_layer)\n",
        "\n",
        "    return model\n",
        "\n",
        "def make_discriminator_model_FCC():\n",
        "    # INPUT: Label\n",
        "    in_label = layers.Input(shape=(COND_num_classes,))\n",
        "\n",
        "    # INPUT: Image\n",
        "    in_image = layers.Input(shape=(28, 28, 1))\n",
        "    in_image_b = layers.Flatten()(in_image)\n",
        "\n",
        "    # MERGE\n",
        "    merge = layers.concatenate([in_image_b, in_label], axis=1)\n",
        "\n",
        "    ge1 = layers.Dense(128, use_bias=True)(merge)\n",
        "    ge1 = layers.ReLU()(ge1)\n",
        "\n",
        "    out_layer = layers.Dense(1, use_bias=True)(ge1)\n",
        "\n",
        "    model = models.Model([in_image, in_label], out_layer)\n",
        "\n",
        "    return model"
      ],
      "execution_count": 21,
      "outputs": []
    },
    {
      "cell_type": "markdown",
      "metadata": {
        "id": "CaloAxCSeWkH",
        "colab_type": "text"
      },
      "source": [
        "### Initiate and test models"
      ]
    },
    {
      "cell_type": "code",
      "metadata": {
        "id": "cOuBI2X2eWkI",
        "colab_type": "code",
        "colab": {
          "base_uri": "https://localhost:8080/",
          "height": 425
        },
        "outputId": "8b45d888-4b59-42ca-e5a1-0e7efef7d90c"
      },
      "source": [
        "generator = make_generator_model_FCC()\n",
        "generator.summary()"
      ],
      "execution_count": 22,
      "outputs": [
        {
          "output_type": "stream",
          "text": [
            "Model: \"functional_1\"\n",
            "__________________________________________________________________________________________________\n",
            "Layer (type)                    Output Shape         Param #     Connected to                     \n",
            "==================================================================================================\n",
            "input_2 (InputLayer)            [(None, 100)]        0                                            \n",
            "__________________________________________________________________________________________________\n",
            "input_1 (InputLayer)            [(None, 10)]         0                                            \n",
            "__________________________________________________________________________________________________\n",
            "concatenate (Concatenate)       (None, 110)          0           input_2[0][0]                    \n",
            "                                                                 input_1[0][0]                    \n",
            "__________________________________________________________________________________________________\n",
            "dense (Dense)                   (None, 128)          14208       concatenate[0][0]                \n",
            "__________________________________________________________________________________________________\n",
            "re_lu (ReLU)                    (None, 128)          0           dense[0][0]                      \n",
            "__________________________________________________________________________________________________\n",
            "dense_1 (Dense)                 (None, 784)          101136      re_lu[0][0]                      \n",
            "__________________________________________________________________________________________________\n",
            "reshape (Reshape)               (None, 28, 28, 1)    0           dense_1[0][0]                    \n",
            "==================================================================================================\n",
            "Total params: 115,344\n",
            "Trainable params: 115,344\n",
            "Non-trainable params: 0\n",
            "__________________________________________________________________________________________________\n"
          ],
          "name": "stdout"
        }
      ]
    },
    {
      "cell_type": "code",
      "metadata": {
        "id": "mmntW8vFeWkM",
        "colab_type": "code",
        "colab": {
          "base_uri": "https://localhost:8080/",
          "height": 425
        },
        "outputId": "a1198d9d-791b-4e1d-87b4-ab8986360aff"
      },
      "source": [
        "discriminator = make_discriminator_model_FCC()\n",
        "discriminator.summary()"
      ],
      "execution_count": 23,
      "outputs": [
        {
          "output_type": "stream",
          "text": [
            "Model: \"functional_3\"\n",
            "__________________________________________________________________________________________________\n",
            "Layer (type)                    Output Shape         Param #     Connected to                     \n",
            "==================================================================================================\n",
            "input_4 (InputLayer)            [(None, 28, 28, 1)]  0                                            \n",
            "__________________________________________________________________________________________________\n",
            "flatten (Flatten)               (None, 784)          0           input_4[0][0]                    \n",
            "__________________________________________________________________________________________________\n",
            "input_3 (InputLayer)            [(None, 10)]         0                                            \n",
            "__________________________________________________________________________________________________\n",
            "concatenate_1 (Concatenate)     (None, 794)          0           flatten[0][0]                    \n",
            "                                                                 input_3[0][0]                    \n",
            "__________________________________________________________________________________________________\n",
            "dense_2 (Dense)                 (None, 128)          101760      concatenate_1[0][0]              \n",
            "__________________________________________________________________________________________________\n",
            "re_lu_1 (ReLU)                  (None, 128)          0           dense_2[0][0]                    \n",
            "__________________________________________________________________________________________________\n",
            "dense_3 (Dense)                 (None, 1)            129         re_lu_1[0][0]                    \n",
            "==================================================================================================\n",
            "Total params: 101,889\n",
            "Trainable params: 101,889\n",
            "Non-trainable params: 0\n",
            "__________________________________________________________________________________________________\n"
          ],
          "name": "stdout"
        }
      ]
    },
    {
      "cell_type": "code",
      "metadata": {
        "colab_type": "code",
        "id": "A_b5QPsCwEIW",
        "scrolled": true,
        "colab": {
          "base_uri": "https://localhost:8080/",
          "height": 315
        },
        "outputId": "a927fc04-88ab-4ef2-ec2c-babb763feb5f"
      },
      "source": [
        "# Test GEN created\n",
        "noise = tf.Variable(tf.random.normal([1, Z_DIM]))\n",
        "noise_label = tf.Variable(np.array([0,0,1,0,0,0,0,0,0,0], dtype='float32').reshape((1,10)))\n",
        "print(noise.shape)\n",
        "print(noise_label.shape)\n",
        "generated_image = generator([noise, noise_label], training=False)\n",
        "plt.imshow(generated_image[0, :, :, 0], cmap='gray')\n",
        "\n",
        "# Test DISC created\n",
        "decision = discriminator([generated_image, noise_label])\n",
        "print(decision)"
      ],
      "execution_count": 24,
      "outputs": [
        {
          "output_type": "stream",
          "text": [
            "(1, 100)\n",
            "(1, 10)\n",
            "tf.Tensor([[0.09454877]], shape=(1, 1), dtype=float32)\n"
          ],
          "name": "stdout"
        },
        {
          "output_type": "display_data",
          "data": {
            "image/png": "[encoded data removed]",
            "text/plain": [
              "<Figure size 432x288 with 1 Axes>"
            ]
          },
          "metadata": {
            "tags": [],
            "needs_background": "light"
          }
        }
      ]
    },
    {
      "cell_type": "markdown",
      "metadata": {
        "id": "EtGqeGSUeWkS",
        "colab_type": "text"
      },
      "source": [
        "### Loss and Updates\n",
        "\n",
        "- Please note that, during the training step of the Discriminator `train_step_DISC`, we **combine gradients** from both real and generated on a single update step into `sanitized_grads_and_vars`, following the approach from [Torkzadehmahani et al. 2019](http://openaccess.thecvf.com/content_CVPRW_2019/papers/CV-COPS/Torkzadehmahani_DP-CGAN_Differentially_Private_Synthetic_Data_and_Label_Generation_CVPRW_2019_paper.pdf).\n",
        "- When learning from the **real/training dataset** we <u>clip and add noise</u> to the gradients of the Discriminator.\n",
        "- When learning from the **generated data** we <u>only clip</u> the gradients of the Discriminator."
      ]
    },
    {
      "cell_type": "code",
      "metadata": {
        "colab_type": "code",
        "id": "Yj0E2qo3kHb0",
        "colab": {}
      },
      "source": [
        "cross_entropy_DISC = tf.keras.losses.BinaryCrossentropy(from_logits=True, reduction=tf.losses.Reduction.NONE)\n",
        "cross_entropy_GEN = tf.keras.losses.BinaryCrossentropy(from_logits=True)\n",
        "\n",
        "# Notice the use of `tf.function`: This annotation causes the function to be \"compiled\".\n",
        "@tf.function\n",
        "def train_step_DISC(images, labels, noise, labels_to_gen):    \n",
        "    with tf.GradientTape(persistent=True) as disc_tape_real:\n",
        "        # This dummy call is needed to obtain the var list.\n",
        "        dummy = discriminator([images, labels], training=True)\n",
        "        var_list = discriminator.trainable_variables\n",
        "        \n",
        "        # In Eager mode, the optimizer takes a function that returns the loss.\n",
        "        def loss_fn_real():\n",
        "            real_output = discriminator([images, labels], training=True)\n",
        "            disc_real_loss = cross_entropy_DISC(tf.ones_like(real_output), real_output)\n",
        "            return disc_real_loss\n",
        "        \n",
        "        grads_and_vars_real = discriminator_optimizer.compute_gradients(loss_fn_real, \n",
        "                                                                        var_list, \n",
        "                                                                        gradient_tape=disc_tape_real, \n",
        "                                                                        curr_noise_mult=NOISE_MULT,\n",
        "                                                                        curr_norm_clip=NORM_CLIP)\n",
        "        \n",
        "        # In Eager mode, the optimizer takes a function that returns the loss.\n",
        "        def loss_fn_fake():\n",
        "            generated_images = generator([noise, labels_to_gen], training=True)\n",
        "            fake_output = discriminator([generated_images, labels_to_gen], training=True)\n",
        "            disc_fake_loss = cross_entropy_DISC(tf.zeros_like(fake_output), fake_output)\n",
        "            return disc_fake_loss\n",
        "        \n",
        "        grads_and_vars_fake = discriminator_optimizer.compute_gradients(loss_fn_fake,\n",
        "                                                                        var_list, \n",
        "                                                                        gradient_tape=disc_tape_real,\n",
        "                                                                        curr_noise_mult=0,\n",
        "                                                                        curr_norm_clip=NORM_CLIP)\n",
        "        disc_loss_r = loss_fn_real()\n",
        "        disc_loss_f = loss_fn_fake()\n",
        "        \n",
        "        s_grads_and_vars = [(grads_and_vars_real[idx] + grads_and_vars_fake[idx])\n",
        "                            for idx in range(len(grads_and_vars_real))]\n",
        "        sanitized_grads_and_vars = list(zip(s_grads_and_vars, var_list))\n",
        "        \n",
        "        discriminator_optimizer.apply_gradients(sanitized_grads_and_vars)\n",
        "        \n",
        "    return(disc_loss_r, disc_loss_f)\n",
        "\n",
        "# Notice the use of `tf.function`: This annotation causes the function to be \"compiled\".\n",
        "@tf.function\n",
        "def train_step_GEN(labels, noise):\n",
        "    with tf.GradientTape() as gen_tape:\n",
        "        generated_images = generator([noise, labels], training=True)\n",
        "        fake_output = discriminator([generated_images, labels], training=True)\n",
        "        # if the generator is performing well, the discriminator will classify the fake images as real (or 1)\n",
        "        gen_loss = cross_entropy_GEN(tf.ones_like(fake_output), fake_output)\n",
        "        \n",
        "    gradients_of_generator = gen_tape.gradient(gen_loss, generator.trainable_variables)\n",
        "    generator_optimizer.apply_gradients(zip(gradients_of_generator, generator.trainable_variables))\n",
        "    \n",
        "    return(gen_loss)"
      ],
      "execution_count": 25,
      "outputs": []
    },
    {
      "cell_type": "markdown",
      "metadata": {
        "id": "p5AYc6qqeWkW",
        "colab_type": "text"
      },
      "source": [
        "### Train function definition\n",
        "\n",
        "- The Generator receives labels as input, in addition to noise, but since the labels are considered sensitive, as part of the training data, the Generator will **NOT** see/receive them.\n",
        "- In this sense, we get **uniform random samples** of the possible labels to pass to the Generator.\n",
        "- Therefore, we do **NOT** use DP-SGD on the Generator, since only the Discriminator trains using the sensitive training data."
      ]
    },
    {
      "cell_type": "code",
      "metadata": {
        "id": "KBYM_t3heWkX",
        "colab_type": "code",
        "colab": {}
      },
      "source": [
        "def train(dataset, title, verbose):\n",
        "    for epoch in range(EPOCHS):\n",
        "        start = time.time()\n",
        "\n",
        "        i_gen = 0\n",
        "        for image_batch, label_batch in dataset:\n",
        "            if verbose:\n",
        "                print(\"Iteration: \" + str(i_gen+1))\n",
        "            \n",
        "            noise = tf.random.normal([BATCH_SIZE, Z_DIM])\n",
        "            labels_to_gen = _random_choice(labels_gen_vec, BATCH_SIZE)\n",
        "    \n",
        "            d_loss_r, d_loss_f = train_step_DISC(image_batch, label_batch, noise, labels_to_gen)\n",
        "            if verbose:\n",
        "                print(\"Loss DISC Real: \" + str(tf.reduce_mean(d_loss_r)))\n",
        "                print(\"Loss DISC Fake: \" + str(tf.reduce_mean(d_loss_f)))\n",
        "\n",
        "            if (i_gen + 1) % N_DISC == 0:\n",
        "                g_loss_f = train_step_GEN(labels_to_gen, noise)\n",
        "                if verbose:\n",
        "                    print(\"Loss GEN Fake:: \" + str(g_loss_f))\n",
        "\n",
        "            i_gen = i_gen + 1\n",
        "\n",
        "        # Produce images for the GIF as we go\n",
        "        display.clear_output(wait=True)\n",
        "        generate_and_save_images(title,\n",
        "                                 generator,\n",
        "                                 epoch + 1,\n",
        "                                 seed,\n",
        "                                 seed_labels)\n",
        "        \n",
        "        print ('Time for epoch {} is {} sec'.format(epoch + 1, time.time()-start))\n",
        "\n",
        "        # Save the model\n",
        "        checkpoint.save(file_prefix = checkpoint_name(title + \"__epoch=\" + str(epoch) + \"__\"))"
      ],
      "execution_count": 26,
      "outputs": []
    },
    {
      "cell_type": "markdown",
      "metadata": {
        "colab_type": "text",
        "id": "RqMlVrs5G9bI"
      },
      "source": [
        "---\n",
        "\n",
        "## Parameters\n",
        "\n",
        "Specific parameters due to DP-SGD:\n",
        "- **NR_MICROBATCHES** (microbatches - int): Each batch of data (of size BATCH_SIZE) is split into smaller units called microbatches. So naturally NR_MICROBATCHES should evenly divide BATCH_SIZE. If NR_MICROBATCHES = BATCH_SIZE then every training example is a microbatch, clipped individually and with noise added to the average. As NR_MICROBATCHES decreases, we have more examples in a single microbatch, where *averaged* microbatches are clipped and noise is added to the *average* of averaged microbatches.\n",
        "- **NORM_CLIP** (l2_norm_clip - float) - The maximum Euclidean (L2) norm of each individual (or microbatch) gradient. To enforce such maximum norm gradients are clipped, which bounds the optimizer's sensitivity to individual training data.\n",
        "- **NOISE_MULT** (noise_multiplier - float) - The amount of noise sampled and added to gradients during training. Generally, more noise gives better privacy, which often, but not necessarily, lowers utility.\n",
        "    - Please have in mind that the actual noise added in practice is sampled from a Gaussian distribution with mean zero and standard deviation NORM_CLIP * NOISE_MULT.\n",
        "    - Therefore, a larger NORM_CLIP may pass more signal from the data via gradients, but it also increases the noise added to the gradients.\n",
        "    - TF Privacy's authors [have already pointed out](http://www.cleverhans.io/privacy/2019/03/26/machine-learning-with-differential-privacy-in-tensorflow.html) that setting NR_MICROBATCHES trades off performance (e.g. NR_MICROBATCHES = 1) with utility (e.g. NR_MICROBATCHES = BATCH_SIZE).\n",
        "- **DP_DELTA**: Delta from the DP definition. We emphasize that DP_DELTA needs to be smaller than 1/BUFFER_SIZE."
      ]
    },
    {
      "cell_type": "code",
      "metadata": {
        "colab_type": "code",
        "id": "zAn0CETqHzAz",
        "colab": {
          "base_uri": "https://localhost:8080/",
          "height": 54
        },
        "outputId": "cea28e63-b372-436a-a45a-13636a8b7b45"
      },
      "source": [
        "BUFFER_SIZE = 60000 # Total size of training data\n",
        "BATCH_SIZE = 600\n",
        "NR_MICROBATCHES = 600 # Each batch of data is split in smaller units called microbatches.\n",
        "\n",
        "\n",
        "NORM_CLIP = 1.1 # Does NOT affect EPSILON, but increases NOISE on gradients\n",
        "NOISE_MULT = 1.15\n",
        "\n",
        "\n",
        "DP_DELTA = 1e-5 # Needs to be smaller than 1/BUFFER_SIZE\n",
        "EPOCHS = 5 # Lulu: This was originally 249\n",
        "\n",
        "\n",
        "N_DISC = 1 # Number of times we train DISC before training GEN once\n",
        "\n",
        "\n",
        "# Learning Rate for DISCRIMINATOR\n",
        "LR_DISC = tf.compat.v1.train.polynomial_decay(learning_rate=0.150,\n",
        "                                              global_step=tf.compat.v1.train.get_or_create_global_step(),\n",
        "                                              decay_steps=10000,\n",
        "                                              end_learning_rate=0.052,\n",
        "                                              power=1)\n",
        "\n",
        "if BATCH_SIZE % NR_MICROBATCHES != 0:\n",
        "    raise ValueError('Batch size should be an integer multiple of the number of microbatches')\n",
        "\n",
        "print('Learning rate for discriminator has been selected as: ', str(LR_DISC))"
      ],
      "execution_count": 27,
      "outputs": [
        {
          "output_type": "stream",
          "text": [
            "Learning rate for discriminator has been selected as:  functools.partial(<tensorflow.python.keras.optimizer_v2.learning_rate_schedule.PolynomialDecay object at 0x7fece0256860>, <tf.Variable 'global_step:0' shape=() dtype=int64, numpy=0>)\n"
          ],
          "name": "stdout"
        }
      ]
    },
    {
      "cell_type": "markdown",
      "metadata": {
        "id": "mBrUj8tneWkf",
        "colab_type": "text"
      },
      "source": [
        "### Get DP epsilon from parameters\n",
        "\n",
        "- Instead of updating and consulting the moments accountant on each step of training, we just previously check the epsilon we obtain from the given parameters.\n",
        "- Therefore, we can just quickly keep manually adjusting the parameters above to reach our desired epsilon below, and avoid extra computation during training.\n",
        "- Moreover, this allows a better understanding of the privacy implications of each parameter above."
      ]
    },
    {
      "cell_type": "code",
      "metadata": {
        "colab_type": "code",
        "id": "VocXhKB5lSEV",
        "colab": {
          "base_uri": "https://localhost:8080/",
          "height": 87
        },
        "outputId": "b20847a7-5b0a-4af3-9b9e-5ce26b9bf3b6"
      },
      "source": [
        "# Obtain DP_EPSILON\n",
        "compute_dp_sgd_privacy.compute_dp_sgd_privacy(n = BUFFER_SIZE, \n",
        "                                              batch_size = BATCH_SIZE, \n",
        "                                              noise_multiplier = NOISE_MULT, \n",
        "                                              epochs = EPOCHS, \n",
        "                                              delta = DP_DELTA)"
      ],
      "execution_count": 28,
      "outputs": [
        {
          "output_type": "stream",
          "text": [
            "DP-SGD with sampling rate = 1% and noise_multiplier = 1.15 iterated over 500 steps satisfies differential privacy with eps = 1.53 and delta = 1e-05.\n",
            "The optimal RDP order is 11.0.\n"
          ],
          "name": "stdout"
        },
        {
          "output_type": "execute_result",
          "data": {
            "text/plain": [
              "(1.5332279301890526, 11.0)"
            ]
          },
          "metadata": {
            "tags": []
          },
          "execution_count": 28
        }
      ]
    },
    {
      "cell_type": "code",
      "metadata": {
        "colab_type": "code",
        "id": "R1WvIihNKwXI",
        "colab": {
          "base_uri": "https://localhost:8080/",
          "height": 34
        },
        "outputId": "5a72a58e-2f6c-4814-a2b6-6a51c3a1f3c5"
      },
      "source": [
        "# SD of noise that will be added to gradients: sanity check\n",
        "NOISE_MULT*NORM_CLIP"
      ],
      "execution_count": 29,
      "outputs": [
        {
          "output_type": "execute_result",
          "data": {
            "text/plain": [
              "1.265"
            ]
          },
          "metadata": {
            "tags": []
          },
          "execution_count": 29
        }
      ]
    },
    {
      "cell_type": "markdown",
      "metadata": {
        "colab_type": "text",
        "id": "NMMbWnKoNa99"
      },
      "source": [
        "### Optimizers\n",
        "\n",
        "Instantiating optimizers"
      ]
    },
    {
      "cell_type": "code",
      "metadata": {
        "colab_type": "code",
        "id": "UovjSm3wKG3h",
        "colab": {}
      },
      "source": [
        "generator_optimizer = tf.keras.optimizers.Adam()\n",
        "\n",
        "discriminator_optimizer = DPGradientDescentGaussianOptimizer_NEW(\n",
        "   learning_rate = LR_DISC,\n",
        "   l2_norm_clip = NORM_CLIP,\n",
        "   noise_multiplier = NOISE_MULT,\n",
        "   num_microbatches = NR_MICROBATCHES)"
      ],
      "execution_count": 30,
      "outputs": []
    },
    {
      "cell_type": "markdown",
      "metadata": {
        "colab_type": "text",
        "id": "n6hVijBPlfg8"
      },
      "source": [
        "---\n",
        "\n",
        "## TRAINING\n",
        "\n",
        "- We emphasize here that when batching our training dataset, DP requires random shuffling.\n",
        "- To help track the progress of our GAN, we fix some seeds for labels and noise for the generator, and constantly plot the generated images. Below we create one seed for each of the 10 classes on MNIST."
      ]
    },
    {
      "cell_type": "code",
      "metadata": {
        "id": "fIw5KKbyeWks",
        "colab_type": "code",
        "colab": {}
      },
      "source": [
        "# Create/reinitiate models\n",
        "generator = make_generator_model_FCC()\n",
        "discriminator = make_discriminator_model_FCC()"
      ],
      "execution_count": 31,
      "outputs": []
    },
    {
      "cell_type": "code",
      "metadata": {
        "colab_type": "code",
        "id": "tGI0EgGjoTrQ",
        "colab": {}
      },
      "source": [
        "# Create checkpoint structure\n",
        "checkpoint = tf.train.Checkpoint(generator_optimizer=generator_optimizer,\n",
        "                                 discriminator_optimizer=discriminator_optimizer,\n",
        "                                 generator=generator,\n",
        "                                 discriminator=discriminator)"
      ],
      "execution_count": 32,
      "outputs": []
    },
    {
      "cell_type": "code",
      "metadata": {
        "colab_type": "code",
        "id": "nTJgxxIqqw5n",
        "colab": {}
      },
      "source": [
        "tf.random.set_seed(1)\n",
        "\n",
        "# Batch and random shuffle training data\n",
        "train_dataset = tf.data.Dataset.from_tensor_slices(\n",
        "    (train_images, train_labels_vec)).shuffle(BUFFER_SIZE).batch(BATCH_SIZE, drop_remainder=True)\n",
        "\n",
        "# Fix some seeds to help visualize progress\n",
        "seed = tf.random.normal([10, Z_DIM])\n",
        "seed_labels = tf.Variable(np.diag(np.full(10,1)).reshape((10,10)), dtype='float32')\n",
        "\n",
        "# To be used for sampling random labels to pass to generator\n",
        "labels_gen_vec = np.zeros((10, COND_num_classes), dtype='float32')\n",
        "for i in [0,1,2,3,4,5,6,7,8,9]:\n",
        "  labels_gen_vec[i, int(i)] = 1.0"
      ],
      "execution_count": 33,
      "outputs": []
    },
    {
      "cell_type": "code",
      "metadata": {
        "colab_type": "code",
        "id": "BVDi7vlNqBlB",
        "colab": {}
      },
      "source": [
        "# GIVES CURRENT TRIAL A NAME - Suggestion: from parameters used\n",
        "training_title = 'eps9.6'"
      ],
      "execution_count": 34,
      "outputs": []
    },
    {
      "cell_type": "code",
      "metadata": {
        "colab_type": "code",
        "id": "IL6rZttmrBOp",
        "colab": {
          "base_uri": "https://localhost:8080/",
          "height": 590
        },
        "outputId": "7d696280-4ee1-4f68-eddf-a8be2d7b9c38"
      },
      "source": [
        "# STARTS TRAINING\n",
        "train(train_dataset, training_title, False)"
      ],
      "execution_count": 35,
      "outputs": [
        {
          "output_type": "display_data",
          "data": {
            "image/png": "[encoded data removed]",
            "text/plain": [
              "<Figure size 144x720 with 10 Axes>"
            ]
          },
          "metadata": {
            "tags": [],
            "needs_background": "light"
          }
        },
        {
          "output_type": "stream",
          "text": [
            "Time for epoch 5 is 36.377570390701294 sec\n"
          ],
          "name": "stdout"
        }
      ]
    },
    {
      "cell_type": "markdown",
      "metadata": {
        "id": "dqYmjrrneWk4",
        "colab_type": "text"
      },
      "source": [
        "---\n",
        "\n",
        "## VALIDATION\n",
        "\n",
        "We consider that the GAN training is performed specifically with the goal of publicly sharing the generated data to allow others to train a ML model. \n",
        "\n",
        "For this reason, we validate the results by training models on the generated data, and finally, after deciding on a single final GAN properly validated, we test the results by applying on the real test data the models trained on the generated data.\n",
        "\n",
        "\n",
        "### Choose model to use\n",
        "Select one of the trials (a fixed GAN) to validate."
      ]
    },
    {
      "cell_type": "code",
      "metadata": {
        "id": "Iat1MojxeWk6",
        "colab_type": "code",
        "colab": {}
      },
      "source": [
        "# EDIT THIS CELL\n",
        "# Choose checkpoint (model) to use:\n",
        "title = training_title\n",
        "epoch_ckp = EPOCHS - 1"
      ],
      "execution_count": 36,
      "outputs": []
    },
    {
      "cell_type": "code",
      "metadata": {
        "id": "On0B_AUMeWk9",
        "colab_type": "code",
        "colab": {
          "base_uri": "https://localhost:8080/",
          "height": 34
        },
        "outputId": "7daa0d87-7a7a-45a3-e3ca-2212e01e5958"
      },
      "source": [
        "# DO NOT EDIT\n",
        "checkpoint_name = checkpoint_dir + \"/ckpt__\" + str(title) + \"__epoch=\" + str(epoch_ckp) + \"__-\" + str(EPOCHS)\n",
        "\n",
        "# RESTORE CHECKPOINT to variables defined on it\n",
        "checkpoint.restore(checkpoint_name)"
      ],
      "execution_count": 37,
      "outputs": [
        {
          "output_type": "execute_result",
          "data": {
            "text/plain": [
              "<tensorflow.python.training.tracking.util.CheckpointLoadStatus at 0x7fec7524e898>"
            ]
          },
          "metadata": {
            "tags": []
          },
          "execution_count": 37
        }
      ]
    },
    {
      "cell_type": "markdown",
      "metadata": {
        "id": "fwQ0dU4reWk_",
        "colab_type": "text"
      },
      "source": [
        "### Generate images"
      ]
    },
    {
      "cell_type": "code",
      "metadata": {
        "id": "9860snK5eWk_",
        "colab_type": "code",
        "colab": {}
      },
      "source": [
        "# Number of images to generate\n",
        "N_GEN = 5000"
      ],
      "execution_count": 38,
      "outputs": []
    },
    {
      "cell_type": "code",
      "metadata": {
        "colab_type": "code",
        "id": "9DqLFm1Ix7cK",
        "colab": {}
      },
      "source": [
        "N_GEN_per_CLASS = np.int(N_GEN/10)\n",
        "\n",
        "tf.random.set_seed(10)\n",
        "noise_GEN = tf.random.normal([N_GEN, Z_DIM])\n",
        "labels_GEN = tf.Variable(np.array([1,0,0,0,0,0,0,0,0,0]*N_GEN_per_CLASS + \n",
        "                                   [0,1,0,0,0,0,0,0,0,0]*N_GEN_per_CLASS +\n",
        "                                   [0,0,1,0,0,0,0,0,0,0]*N_GEN_per_CLASS +\n",
        "                                   [0,0,0,1,0,0,0,0,0,0]*N_GEN_per_CLASS +\n",
        "                                   [0,0,0,0,1,0,0,0,0,0]*N_GEN_per_CLASS +\n",
        "                                   [0,0,0,0,0,1,0,0,0,0]*N_GEN_per_CLASS +\n",
        "                                   [0,0,0,0,0,0,1,0,0,0]*N_GEN_per_CLASS +\n",
        "                                   [0,0,0,0,0,0,0,1,0,0]*N_GEN_per_CLASS +\n",
        "                                   [0,0,0,0,0,0,0,0,1,0]*N_GEN_per_CLASS +\n",
        "                                   [0,0,0,0,0,0,0,0,0,1]*N_GEN_per_CLASS, \n",
        "                                   dtype='float32').reshape((N_GEN,10)))"
      ],
      "execution_count": 39,
      "outputs": []
    },
    {
      "cell_type": "code",
      "metadata": {
        "colab_type": "code",
        "id": "jkV2uEM4ykxF",
        "colab": {}
      },
      "source": [
        "images_GEN = generator([noise_GEN, labels_GEN], training=False)\n",
        "images_flat = layers.Flatten()(images_GEN)"
      ],
      "execution_count": 40,
      "outputs": []
    },
    {
      "cell_type": "code",
      "metadata": {
        "colab_type": "code",
        "id": "wqAmbPcSy_aP",
        "colab": {}
      },
      "source": [
        "labels_flat = tf.Variable(np.array([0]*N_GEN_per_CLASS + \n",
        "                                   [1]*N_GEN_per_CLASS +\n",
        "                                   [2]*N_GEN_per_CLASS +\n",
        "                                   [3]*N_GEN_per_CLASS +\n",
        "                                   [4]*N_GEN_per_CLASS +\n",
        "                                   [5]*N_GEN_per_CLASS +\n",
        "                                   [6]*N_GEN_per_CLASS +\n",
        "                                   [7]*N_GEN_per_CLASS +\n",
        "                                   [8]*N_GEN_per_CLASS +\n",
        "                                   [9]*N_GEN_per_CLASS, \n",
        "                                   dtype='float32').reshape((N_GEN,1)))"
      ],
      "execution_count": 41,
      "outputs": []
    },
    {
      "cell_type": "code",
      "metadata": {
        "colab_type": "code",
        "id": "2npDQqY3zWHt",
        "colab": {}
      },
      "source": [
        "Y_train = labels_flat[:images_flat.shape[0]]\n",
        "X_train = images_flat\n",
        "\n",
        "classes = [0, 1, 2, 3, 4, 5, 6, 7, 8, 9]\n",
        "Y_train_org = label_binarize(Y_train, classes=classes)\n",
        "Y_train_vec = layers.Flatten()(Y_train_org)"
      ],
      "execution_count": 42,
      "outputs": []
    },
    {
      "cell_type": "markdown",
      "metadata": {
        "colab_type": "text",
        "id": "Qtb06W4a-nWD"
      },
      "source": [
        "### Get validation results"
      ]
    },
    {
      "cell_type": "code",
      "metadata": {
        "id": "UKhZFobreWlg",
        "colab_type": "code",
        "colab": {}
      },
      "source": [
        "##### Vanilla Neural Network\n",
        "\n",
        "tf.random.set_seed(100)\n",
        "classifier_NN = OneVsRestClassifier(MLPClassifier(random_state=2, alpha=1))\n",
        "NN_model = classifier_NN.fit(X_train, Y_train)"
      ],
      "execution_count": 43,
      "outputs": []
    },
    {
      "cell_type": "code",
      "metadata": {
        "id": "NjlKXGnHbmpk",
        "colab_type": "code",
        "colab": {
          "base_uri": "https://localhost:8080/",
          "height": 202
        },
        "outputId": "63db8e64-a7fd-406e-f0e0-9387b126b895"
      },
      "source": [
        "# ROC per class: Validating on REAL training dataset\n",
        "Y_score = NN_model.predict_proba(train_images.reshape(60000,28*28*1))\n",
        "false_positive_rate, true_positive_rate, roc_auc = compute_fpr_tpr_roc(np.array(train_labels_vec), Y_score)\n",
        "[str(au) + \" = \" + str(roc_auc[au]) for au in roc_auc]"
      ],
      "execution_count": 44,
      "outputs": [
        {
          "output_type": "execute_result",
          "data": {
            "text/plain": [
              "['0 = 0.6061031569559469',\n",
              " '1 = 0.5050889777093444',\n",
              " '2 = 0.48589241115773857',\n",
              " '3 = 0.6709872862859685',\n",
              " '4 = 0.41239217662285477',\n",
              " '5 = 0.48083584808833313',\n",
              " '6 = 0.6194951743574797',\n",
              " '7 = 0.5389360441426108',\n",
              " '8 = 0.5585994403189369',\n",
              " '9 = 0.6755597574604704',\n",
              " 'micro = 0.5342153057407407']"
            ]
          },
          "metadata": {
            "tags": []
          },
          "execution_count": 44
        }
      ]
    },
    {
      "cell_type": "code",
      "metadata": {
        "id": "6MR3vZhXeWlX",
        "colab_type": "code",
        "colab": {
          "base_uri": "https://localhost:8080/",
          "height": 1000
        },
        "outputId": "ef601c06-0adf-4b40-9e63-9b5225527a8f"
      },
      "source": [
        "##### Logistic Regression\n",
        "\n",
        "tf.random.set_seed(100)\n",
        "classifier_LR = OneVsRestClassifier(LogisticRegression(solver='lbfgs', \n",
        "                                                       multi_class='multinomial', \n",
        "                                                       random_state=2))\n",
        "LR_model = classifier_LR.fit(X_train, Y_train)"
      ],
      "execution_count": 45,
      "outputs": [
        {
          "output_type": "stream",
          "text": [
            "/usr/local/lib/python3.6/dist-packages/sklearn/linear_model/_logistic.py:940: ConvergenceWarning: lbfgs failed to converge (status=1):\n",
            "STOP: TOTAL NO. of ITERATIONS REACHED LIMIT.\n",
            "\n",
            "Increase the number of iterations (max_iter) or scale the data as shown in:\n",
            "    https://scikit-learn.org/stable/modules/preprocessing.html\n",
            "Please also refer to the documentation for alternative solver options:\n",
            "    https://scikit-learn.org/stable/modules/linear_model.html#logistic-regression\n",
            "  extra_warning_msg=_LOGISTIC_SOLVER_CONVERGENCE_MSG)\n",
            "/usr/local/lib/python3.6/dist-packages/sklearn/linear_model/_logistic.py:940: ConvergenceWarning: lbfgs failed to converge (status=1):\n",
            "STOP: TOTAL NO. of ITERATIONS REACHED LIMIT.\n",
            "\n",
            "Increase the number of iterations (max_iter) or scale the data as shown in:\n",
            "    https://scikit-learn.org/stable/modules/preprocessing.html\n",
            "Please also refer to the documentation for alternative solver options:\n",
            "    https://scikit-learn.org/stable/modules/linear_model.html#logistic-regression\n",
            "  extra_warning_msg=_LOGISTIC_SOLVER_CONVERGENCE_MSG)\n",
            "/usr/local/lib/python3.6/dist-packages/sklearn/linear_model/_logistic.py:940: ConvergenceWarning: lbfgs failed to converge (status=1):\n",
            "STOP: TOTAL NO. of ITERATIONS REACHED LIMIT.\n",
            "\n",
            "Increase the number of iterations (max_iter) or scale the data as shown in:\n",
            "    https://scikit-learn.org/stable/modules/preprocessing.html\n",
            "Please also refer to the documentation for alternative solver options:\n",
            "    https://scikit-learn.org/stable/modules/linear_model.html#logistic-regression\n",
            "  extra_warning_msg=_LOGISTIC_SOLVER_CONVERGENCE_MSG)\n",
            "/usr/local/lib/python3.6/dist-packages/sklearn/linear_model/_logistic.py:940: ConvergenceWarning: lbfgs failed to converge (status=1):\n",
            "STOP: TOTAL NO. of ITERATIONS REACHED LIMIT.\n",
            "\n",
            "Increase the number of iterations (max_iter) or scale the data as shown in:\n",
            "    https://scikit-learn.org/stable/modules/preprocessing.html\n",
            "Please also refer to the documentation for alternative solver options:\n",
            "    https://scikit-learn.org/stable/modules/linear_model.html#logistic-regression\n",
            "  extra_warning_msg=_LOGISTIC_SOLVER_CONVERGENCE_MSG)\n",
            "/usr/local/lib/python3.6/dist-packages/sklearn/linear_model/_logistic.py:940: ConvergenceWarning: lbfgs failed to converge (status=1):\n",
            "STOP: TOTAL NO. of ITERATIONS REACHED LIMIT.\n",
            "\n",
            "Increase the number of iterations (max_iter) or scale the data as shown in:\n",
            "    https://scikit-learn.org/stable/modules/preprocessing.html\n",
            "Please also refer to the documentation for alternative solver options:\n",
            "    https://scikit-learn.org/stable/modules/linear_model.html#logistic-regression\n",
            "  extra_warning_msg=_LOGISTIC_SOLVER_CONVERGENCE_MSG)\n",
            "/usr/local/lib/python3.6/dist-packages/sklearn/linear_model/_logistic.py:940: ConvergenceWarning: lbfgs failed to converge (status=1):\n",
            "STOP: TOTAL NO. of ITERATIONS REACHED LIMIT.\n",
            "\n",
            "Increase the number of iterations (max_iter) or scale the data as shown in:\n",
            "    https://scikit-learn.org/stable/modules/preprocessing.html\n",
            "Please also refer to the documentation for alternative solver options:\n",
            "    https://scikit-learn.org/stable/modules/linear_model.html#logistic-regression\n",
            "  extra_warning_msg=_LOGISTIC_SOLVER_CONVERGENCE_MSG)\n",
            "/usr/local/lib/python3.6/dist-packages/sklearn/linear_model/_logistic.py:940: ConvergenceWarning: lbfgs failed to converge (status=1):\n",
            "STOP: TOTAL NO. of ITERATIONS REACHED LIMIT.\n",
            "\n",
            "Increase the number of iterations (max_iter) or scale the data as shown in:\n",
            "    https://scikit-learn.org/stable/modules/preprocessing.html\n",
            "Please also refer to the documentation for alternative solver options:\n",
            "    https://scikit-learn.org/stable/modules/linear_model.html#logistic-regression\n",
            "  extra_warning_msg=_LOGISTIC_SOLVER_CONVERGENCE_MSG)\n",
            "/usr/local/lib/python3.6/dist-packages/sklearn/linear_model/_logistic.py:940: ConvergenceWarning: lbfgs failed to converge (status=1):\n",
            "STOP: TOTAL NO. of ITERATIONS REACHED LIMIT.\n",
            "\n",
            "Increase the number of iterations (max_iter) or scale the data as shown in:\n",
            "    https://scikit-learn.org/stable/modules/preprocessing.html\n",
            "Please also refer to the documentation for alternative solver options:\n",
            "    https://scikit-learn.org/stable/modules/linear_model.html#logistic-regression\n",
            "  extra_warning_msg=_LOGISTIC_SOLVER_CONVERGENCE_MSG)\n",
            "/usr/local/lib/python3.6/dist-packages/sklearn/linear_model/_logistic.py:940: ConvergenceWarning: lbfgs failed to converge (status=1):\n",
            "STOP: TOTAL NO. of ITERATIONS REACHED LIMIT.\n",
            "\n",
            "Increase the number of iterations (max_iter) or scale the data as shown in:\n",
            "    https://scikit-learn.org/stable/modules/preprocessing.html\n",
            "Please also refer to the documentation for alternative solver options:\n",
            "    https://scikit-learn.org/stable/modules/linear_model.html#logistic-regression\n",
            "  extra_warning_msg=_LOGISTIC_SOLVER_CONVERGENCE_MSG)\n",
            "/usr/local/lib/python3.6/dist-packages/sklearn/linear_model/_logistic.py:940: ConvergenceWarning: lbfgs failed to converge (status=1):\n",
            "STOP: TOTAL NO. of ITERATIONS REACHED LIMIT.\n",
            "\n",
            "Increase the number of iterations (max_iter) or scale the data as shown in:\n",
            "    https://scikit-learn.org/stable/modules/preprocessing.html\n",
            "Please also refer to the documentation for alternative solver options:\n",
            "    https://scikit-learn.org/stable/modules/linear_model.html#logistic-regression\n",
            "  extra_warning_msg=_LOGISTIC_SOLVER_CONVERGENCE_MSG)\n"
          ],
          "name": "stderr"
        }
      ]
    },
    {
      "cell_type": "code",
      "metadata": {
        "id": "6SRt9hYmXDrc",
        "colab_type": "code",
        "colab": {
          "base_uri": "https://localhost:8080/",
          "height": 202
        },
        "outputId": "e6bcc21c-7858-4af4-a17f-68a76336c8d9"
      },
      "source": [
        "# ROC per class: Validating on REAL training dataset\n",
        "Y_score = LR_model.predict_proba(train_images.reshape(60000,28*28*1))\n",
        "false_positive_rate, true_positive_rate, roc_auc = compute_fpr_tpr_roc(np.array(train_labels_vec), Y_score)\n",
        "[str(au) + \" = \" + str(roc_auc[au]) for au in roc_auc]"
      ],
      "execution_count": 46,
      "outputs": [
        {
          "output_type": "execute_result",
          "data": {
            "text/plain": [
              "['0 = 0.31124341988310006',\n",
              " '1 = 0.0902712813605373',\n",
              " '2 = 0.72970634317851',\n",
              " '3 = 0.713755879004504',\n",
              " '4 = 0.3917448280677585',\n",
              " '5 = 0.5072218662752931',\n",
              " '6 = 0.49490907058772815',\n",
              " '7 = 0.6309134025115567',\n",
              " '8 = 0.5692518809050648',\n",
              " '9 = 0.4241879581308127',\n",
              " 'micro = 0.4904034718827161']"
            ]
          },
          "metadata": {
            "tags": []
          },
          "execution_count": 46
        }
      ]
    },
    {
      "cell_type": "markdown",
      "metadata": {
        "id": "aJwknz5neWlj",
        "colab_type": "text"
      },
      "source": [
        "---\n",
        "\n",
        "## TESTING\n",
        "\n",
        "Model trained on generated data is tested on the real MNIST test dataset to evaluate utility.\n",
        "\n",
        "### Load test data"
      ]
    },
    {
      "cell_type": "code",
      "metadata": {
        "colab_type": "code",
        "id": "ms0HrSyw6KLi",
        "colab": {}
      },
      "source": [
        "(_, _), (X_test_org, Y_test_org) = tf.keras.datasets.mnist.load_data()\n",
        "\n",
        "X_test_org = X_test_org.reshape(X_test_org.shape[0], 28, 28, 1).astype('float32')\n",
        "X_test_org = (X_test_org - 127.5) / 127.5 # Normalize the images to [-1, 1]\n",
        "\n",
        "Y_test_org = [int(y) for y in Y_test_org]\n",
        "classes = [0, 1, 2, 3, 4, 5, 6, 7, 8, 9]\n",
        "Y_test_org = label_binarize(Y_test_org, classes=classes)\n",
        "\n",
        "X_test = layers.Flatten()(X_test_org)\n",
        "Y_test = layers.Flatten()(Y_test_org)"
      ],
      "execution_count": 47,
      "outputs": []
    },
    {
      "cell_type": "markdown",
      "metadata": {
        "id": "6pDoU5x9eWln",
        "colab_type": "text"
      },
      "source": [
        "### Get test results"
      ]
    },
    {
      "cell_type": "code",
      "metadata": {
        "colab_type": "code",
        "id": "OhHFs0M85Yng",
        "colab": {}
      },
      "source": [
        "##### Vanilla Neural Network\n",
        "\n",
        "tf.random.set_seed(1)\n",
        "classifier_NN = OneVsRestClassifier(MLPClassifier(random_state=2, alpha=1))\n",
        "NN_model2 = classifier_NN.fit(X_train, Y_train)"
      ],
      "execution_count": 48,
      "outputs": []
    },
    {
      "cell_type": "code",
      "metadata": {
        "id": "p_NBzTjRcGws",
        "colab_type": "code",
        "colab": {
          "base_uri": "https://localhost:8080/",
          "height": 202
        },
        "outputId": "ebc5c348-4108-45ce-a518-2e6d16992665"
      },
      "source": [
        "# ROC per class\n",
        "Y_score = NN_model2.predict_proba(X_test)\n",
        "false_positive_rate, true_positive_rate, roc_auc = compute_fpr_tpr_roc(np.array(Y_test), Y_score)\n",
        "[str(au) + \" = \" + str(roc_auc[au]) for au in roc_auc]"
      ],
      "execution_count": 49,
      "outputs": [
        {
          "output_type": "execute_result",
          "data": {
            "text/plain": [
              "['0 = 0.5956520657043305',\n",
              " '1 = 0.5135940726164121',\n",
              " '2 = 0.4623865042977961',\n",
              " '3 = 0.6709536448639303',\n",
              " '4 = 0.3915427800204072',\n",
              " '5 = 0.47046195529086926',\n",
              " '6 = 0.6194432938562283',\n",
              " '7 = 0.5326412175536168',\n",
              " '8 = 0.5877506050283211',\n",
              " '9 = 0.6942517895056161',\n",
              " 'micro = 0.5347508366666667']"
            ]
          },
          "metadata": {
            "tags": []
          },
          "execution_count": 49
        }
      ]
    },
    {
      "cell_type": "code",
      "metadata": {
        "colab_type": "code",
        "id": "zZJJAJG07Zm2",
        "colab": {
          "base_uri": "https://localhost:8080/",
          "height": 1000
        },
        "outputId": "c9b37482-b5b9-4cb6-8d2c-cfa7977d1b26"
      },
      "source": [
        "##### Logistic Regression\n",
        "\n",
        "tf.random.set_seed(1)\n",
        "classifier_LR = OneVsRestClassifier(LogisticRegression(solver='lbfgs', \n",
        "                                                       multi_class='multinomial', \n",
        "                                                       random_state=2))\n",
        "LR_model2 = classifier_LR.fit(X_train, Y_train)"
      ],
      "execution_count": 50,
      "outputs": [
        {
          "output_type": "stream",
          "text": [
            "/usr/local/lib/python3.6/dist-packages/sklearn/linear_model/_logistic.py:940: ConvergenceWarning: lbfgs failed to converge (status=1):\n",
            "STOP: TOTAL NO. of ITERATIONS REACHED LIMIT.\n",
            "\n",
            "Increase the number of iterations (max_iter) or scale the data as shown in:\n",
            "    https://scikit-learn.org/stable/modules/preprocessing.html\n",
            "Please also refer to the documentation for alternative solver options:\n",
            "    https://scikit-learn.org/stable/modules/linear_model.html#logistic-regression\n",
            "  extra_warning_msg=_LOGISTIC_SOLVER_CONVERGENCE_MSG)\n",
            "/usr/local/lib/python3.6/dist-packages/sklearn/linear_model/_logistic.py:940: ConvergenceWarning: lbfgs failed to converge (status=1):\n",
            "STOP: TOTAL NO. of ITERATIONS REACHED LIMIT.\n",
            "\n",
            "Increase the number of iterations (max_iter) or scale the data as shown in:\n",
            "    https://scikit-learn.org/stable/modules/preprocessing.html\n",
            "Please also refer to the documentation for alternative solver options:\n",
            "    https://scikit-learn.org/stable/modules/linear_model.html#logistic-regression\n",
            "  extra_warning_msg=_LOGISTIC_SOLVER_CONVERGENCE_MSG)\n",
            "/usr/local/lib/python3.6/dist-packages/sklearn/linear_model/_logistic.py:940: ConvergenceWarning: lbfgs failed to converge (status=1):\n",
            "STOP: TOTAL NO. of ITERATIONS REACHED LIMIT.\n",
            "\n",
            "Increase the number of iterations (max_iter) or scale the data as shown in:\n",
            "    https://scikit-learn.org/stable/modules/preprocessing.html\n",
            "Please also refer to the documentation for alternative solver options:\n",
            "    https://scikit-learn.org/stable/modules/linear_model.html#logistic-regression\n",
            "  extra_warning_msg=_LOGISTIC_SOLVER_CONVERGENCE_MSG)\n",
            "/usr/local/lib/python3.6/dist-packages/sklearn/linear_model/_logistic.py:940: ConvergenceWarning: lbfgs failed to converge (status=1):\n",
            "STOP: TOTAL NO. of ITERATIONS REACHED LIMIT.\n",
            "\n",
            "Increase the number of iterations (max_iter) or scale the data as shown in:\n",
            "    https://scikit-learn.org/stable/modules/preprocessing.html\n",
            "Please also refer to the documentation for alternative solver options:\n",
            "    https://scikit-learn.org/stable/modules/linear_model.html#logistic-regression\n",
            "  extra_warning_msg=_LOGISTIC_SOLVER_CONVERGENCE_MSG)\n",
            "/usr/local/lib/python3.6/dist-packages/sklearn/linear_model/_logistic.py:940: ConvergenceWarning: lbfgs failed to converge (status=1):\n",
            "STOP: TOTAL NO. of ITERATIONS REACHED LIMIT.\n",
            "\n",
            "Increase the number of iterations (max_iter) or scale the data as shown in:\n",
            "    https://scikit-learn.org/stable/modules/preprocessing.html\n",
            "Please also refer to the documentation for alternative solver options:\n",
            "    https://scikit-learn.org/stable/modules/linear_model.html#logistic-regression\n",
            "  extra_warning_msg=_LOGISTIC_SOLVER_CONVERGENCE_MSG)\n",
            "/usr/local/lib/python3.6/dist-packages/sklearn/linear_model/_logistic.py:940: ConvergenceWarning: lbfgs failed to converge (status=1):\n",
            "STOP: TOTAL NO. of ITERATIONS REACHED LIMIT.\n",
            "\n",
            "Increase the number of iterations (max_iter) or scale the data as shown in:\n",
            "    https://scikit-learn.org/stable/modules/preprocessing.html\n",
            "Please also refer to the documentation for alternative solver options:\n",
            "    https://scikit-learn.org/stable/modules/linear_model.html#logistic-regression\n",
            "  extra_warning_msg=_LOGISTIC_SOLVER_CONVERGENCE_MSG)\n",
            "/usr/local/lib/python3.6/dist-packages/sklearn/linear_model/_logistic.py:940: ConvergenceWarning: lbfgs failed to converge (status=1):\n",
            "STOP: TOTAL NO. of ITERATIONS REACHED LIMIT.\n",
            "\n",
            "Increase the number of iterations (max_iter) or scale the data as shown in:\n",
            "    https://scikit-learn.org/stable/modules/preprocessing.html\n",
            "Please also refer to the documentation for alternative solver options:\n",
            "    https://scikit-learn.org/stable/modules/linear_model.html#logistic-regression\n",
            "  extra_warning_msg=_LOGISTIC_SOLVER_CONVERGENCE_MSG)\n",
            "/usr/local/lib/python3.6/dist-packages/sklearn/linear_model/_logistic.py:940: ConvergenceWarning: lbfgs failed to converge (status=1):\n",
            "STOP: TOTAL NO. of ITERATIONS REACHED LIMIT.\n",
            "\n",
            "Increase the number of iterations (max_iter) or scale the data as shown in:\n",
            "    https://scikit-learn.org/stable/modules/preprocessing.html\n",
            "Please also refer to the documentation for alternative solver options:\n",
            "    https://scikit-learn.org/stable/modules/linear_model.html#logistic-regression\n",
            "  extra_warning_msg=_LOGISTIC_SOLVER_CONVERGENCE_MSG)\n",
            "/usr/local/lib/python3.6/dist-packages/sklearn/linear_model/_logistic.py:940: ConvergenceWarning: lbfgs failed to converge (status=1):\n",
            "STOP: TOTAL NO. of ITERATIONS REACHED LIMIT.\n",
            "\n",
            "Increase the number of iterations (max_iter) or scale the data as shown in:\n",
            "    https://scikit-learn.org/stable/modules/preprocessing.html\n",
            "Please also refer to the documentation for alternative solver options:\n",
            "    https://scikit-learn.org/stable/modules/linear_model.html#logistic-regression\n",
            "  extra_warning_msg=_LOGISTIC_SOLVER_CONVERGENCE_MSG)\n",
            "/usr/local/lib/python3.6/dist-packages/sklearn/linear_model/_logistic.py:940: ConvergenceWarning: lbfgs failed to converge (status=1):\n",
            "STOP: TOTAL NO. of ITERATIONS REACHED LIMIT.\n",
            "\n",
            "Increase the number of iterations (max_iter) or scale the data as shown in:\n",
            "    https://scikit-learn.org/stable/modules/preprocessing.html\n",
            "Please also refer to the documentation for alternative solver options:\n",
            "    https://scikit-learn.org/stable/modules/linear_model.html#logistic-regression\n",
            "  extra_warning_msg=_LOGISTIC_SOLVER_CONVERGENCE_MSG)\n"
          ],
          "name": "stderr"
        }
      ]
    },
    {
      "cell_type": "code",
      "metadata": {
        "id": "uztxYfmLb_ge",
        "colab_type": "code",
        "colab": {
          "base_uri": "https://localhost:8080/",
          "height": 202
        },
        "outputId": "213b01ce-3966-4a50-c40e-dbccb5950519"
      },
      "source": [
        "# ROC per class\n",
        "Y_score = LR_model2.predict_proba(X_test)\n",
        "false_positive_rate, true_positive_rate, roc_auc = compute_fpr_tpr_roc(np.array(Y_test), Y_score)\n",
        "[str(au) + \" = \" + str(roc_auc[au]) for au in roc_auc]"
      ],
      "execution_count": 51,
      "outputs": [
        {
          "output_type": "execute_result",
          "data": {
            "text/plain": [
              "['0 = 0.3051388071858455',\n",
              " '1 = 0.08655987636376283',\n",
              " '2 = 0.7308764495985727',\n",
              " '3 = 0.7289666185750945',\n",
              " '4 = 0.3859019909942505',\n",
              " '5 = 0.5090902198038092',\n",
              " '6 = 0.4936674549157978',\n",
              " '7 = 0.6198699022119833',\n",
              " '8 = 0.5860053616497356',\n",
              " '9 = 0.42783241340668937',\n",
              " 'micro = 0.4887577211111111']"
            ]
          },
          "metadata": {
            "tags": []
          },
          "execution_count": 51
        }
      ]
    }
  ]
}